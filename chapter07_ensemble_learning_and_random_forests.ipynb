{
 "cells": [
  {
   "cell_type": "markdown",
   "id": "602d73a8",
   "metadata": {},
   "source": [
    "# Voting Classifiers"
   ]
  },
  {
   "cell_type": "code",
   "execution_count": 1,
   "id": "c0c0d155",
   "metadata": {
    "ExecuteTime": {
     "end_time": "2021-06-23T10:39:41.217085Z",
     "start_time": "2021-06-23T10:39:40.819226Z"
    }
   },
   "outputs": [],
   "source": [
    "%matplotlib inline\n",
    "import numpy as np\n",
    "import pandas as pd\n",
    "import matplotlib.pyplot as plt\n",
    "import matplotlib as mpl\n",
    "plt.style.use(\"Solarize_Light2\")"
   ]
  },
  {
   "cell_type": "code",
   "execution_count": 2,
   "id": "a3376975",
   "metadata": {
    "ExecuteTime": {
     "end_time": "2021-06-23T10:43:24.467523Z",
     "start_time": "2021-06-23T10:43:24.115032Z"
    }
   },
   "outputs": [],
   "source": [
    "from sklearn.model_selection import train_test_split\n",
    "from sklearn.datasets import make_moons\n",
    "\n",
    "X, y = make_moons(n_samples=500, noise=0.30, random_state=42)\n",
    "X_train, X_test, y_train, y_test = train_test_split(X, y, random_state=42)"
   ]
  },
  {
   "cell_type": "code",
   "execution_count": 6,
   "id": "7d4a3e33",
   "metadata": {
    "ExecuteTime": {
     "end_time": "2021-06-23T10:43:49.664290Z",
     "start_time": "2021-06-23T10:43:49.521815Z"
    }
   },
   "outputs": [
    {
     "data": {
      "text/plain": [
       "VotingClassifier(estimators=[('lr', LogisticRegression()),\n",
       "                             ('rf', RandomForestClassifier()), ('svc', SVC())])"
      ]
     },
     "execution_count": 6,
     "metadata": {},
     "output_type": "execute_result"
    }
   ],
   "source": [
    "from sklearn.ensemble import RandomForestClassifier\n",
    "from sklearn.ensemble import VotingClassifier\n",
    "from sklearn.linear_model import LogisticRegression\n",
    "from sklearn.svm import SVC\n",
    "\n",
    "log_clf = LogisticRegression()\n",
    "rnd_clf = RandomForestClassifier()\n",
    "svm_clf = SVC()\n",
    "\n",
    "voting_clf = VotingClassifier(\n",
    "    estimators=[(\"lr\", log_clf), (\"rf\", rnd_clf),  (\"svc\", svm_clf)],\n",
    "    voting=\"hard\"\n",
    ")\n",
    "voting_clf.fit(X_train, y_train)"
   ]
  },
  {
   "cell_type": "code",
   "execution_count": 7,
   "id": "c0934aae",
   "metadata": {
    "ExecuteTime": {
     "end_time": "2021-06-23T10:45:01.483818Z",
     "start_time": "2021-06-23T10:45:01.197417Z"
    }
   },
   "outputs": [
    {
     "name": "stdout",
     "output_type": "stream",
     "text": [
      "LogisticRegression 0.864\n",
      "RandomForestClassifier 0.88\n",
      "SVC 0.896\n",
      "VotingClassifier 0.912\n"
     ]
    }
   ],
   "source": [
    "from sklearn.metrics import accuracy_score\n",
    "\n",
    "for clf in (log_clf, rnd_clf, svm_clf, voting_clf):\n",
    "    clf.fit(X_train, y_train)\n",
    "    y_pred = clf.predict(X_test)\n",
    "    print(clf.__class__.__name__, accuracy_score(y_test, y_pred))"
   ]
  },
  {
   "cell_type": "markdown",
   "id": "7eac2520",
   "metadata": {},
   "source": [
    "## Bagging and Pasting in Scikit-Learn"
   ]
  },
  {
   "cell_type": "code",
   "execution_count": 8,
   "id": "722b8f11",
   "metadata": {
    "ExecuteTime": {
     "end_time": "2021-06-23T11:15:30.553353Z",
     "start_time": "2021-06-23T11:15:29.468962Z"
    }
   },
   "outputs": [],
   "source": [
    "from sklearn.ensemble import BaggingClassifier\n",
    "from sklearn.tree import DecisionTreeClassifier\n",
    "\n",
    "bag_clf = BaggingClassifier(\n",
    "    DecisionTreeClassifier(), n_estimators=500,\n",
    "    max_samples=100, bootstrap=True, n_jobs=-1\n",
    ")\n",
    "bag_clf.fit(X_train, y_train)\n",
    "y_pred = bag_clf.predict(X_test)"
   ]
  },
  {
   "cell_type": "markdown",
   "id": "dd2024ca",
   "metadata": {},
   "source": [
    "## Out-of-Bag Evaluation"
   ]
  },
  {
   "cell_type": "code",
   "execution_count": 10,
   "id": "8271693a",
   "metadata": {
    "ExecuteTime": {
     "end_time": "2021-06-24T13:24:34.980408Z",
     "start_time": "2021-06-24T13:24:34.686393Z"
    }
   },
   "outputs": [
    {
     "data": {
      "text/plain": [
       "0.8986666666666666"
      ]
     },
     "execution_count": 10,
     "metadata": {},
     "output_type": "execute_result"
    }
   ],
   "source": [
    "bag_clf = BaggingClassifier(\n",
    "    DecisionTreeClassifier(), n_estimators=500,\n",
    "    bootstrap=True, n_jobs=-1, oob_score=True\n",
    ")\n",
    "bag_clf.fit(X_train, y_train)\n",
    "bag_clf.oob_score_"
   ]
  },
  {
   "cell_type": "code",
   "execution_count": 11,
   "id": "f055edc9",
   "metadata": {
    "ExecuteTime": {
     "end_time": "2021-06-24T13:25:08.913620Z",
     "start_time": "2021-06-24T13:25:08.777528Z"
    }
   },
   "outputs": [
    {
     "data": {
      "text/plain": [
       "0.904"
      ]
     },
     "execution_count": 11,
     "metadata": {},
     "output_type": "execute_result"
    }
   ],
   "source": [
    "from sklearn.metrics import accuracy_score\n",
    "\n",
    "y_pred = bag_clf.predict(X_test)\n",
    "accuracy_score(y_test, y_pred)"
   ]
  },
  {
   "cell_type": "code",
   "execution_count": 13,
   "id": "d36f64b9",
   "metadata": {
    "ExecuteTime": {
     "end_time": "2021-06-24T13:25:37.720526Z",
     "start_time": "2021-06-24T13:25:37.706318Z"
    }
   },
   "outputs": [
    {
     "data": {
      "text/plain": [
       "array([[0.44210526, 0.55789474],\n",
       "       [0.31927711, 0.68072289],\n",
       "       [1.        , 0.        ],\n",
       "       [0.        , 1.        ],\n",
       "       [0.        , 1.        ],\n",
       "       [0.06748466, 0.93251534],\n",
       "       [0.35384615, 0.64615385],\n",
       "       [0.00485437, 0.99514563],\n",
       "       [0.98913043, 0.01086957],\n",
       "       [0.98378378, 0.01621622],\n",
       "       [0.82010582, 0.17989418],\n",
       "       [0.01530612, 0.98469388],\n",
       "       [0.78125   , 0.21875   ],\n",
       "       [0.86631016, 0.13368984],\n",
       "       [0.97156398, 0.02843602],\n",
       "       [0.04255319, 0.95744681],\n",
       "       [0.        , 1.        ],\n",
       "       [0.98      , 0.02      ],\n",
       "       [0.94444444, 0.05555556],\n",
       "       [0.97938144, 0.02061856],\n",
       "       [0.01630435, 0.98369565],\n",
       "       [0.36094675, 0.63905325],\n",
       "       [0.90797546, 0.09202454],\n",
       "       [1.        , 0.        ],\n",
       "       [0.98918919, 0.01081081],\n",
       "       [0.        , 1.        ],\n",
       "       [1.        , 0.        ],\n",
       "       [1.        , 0.        ],\n",
       "       [0.        , 1.        ],\n",
       "       [0.6631016 , 0.3368984 ],\n",
       "       [0.        , 1.        ],\n",
       "       [1.        , 0.        ],\n",
       "       [0.0052356 , 0.9947644 ],\n",
       "       [0.        , 1.        ],\n",
       "       [0.13186813, 0.86813187],\n",
       "       [1.        , 0.        ],\n",
       "       [0.00529101, 0.99470899],\n",
       "       [0.32432432, 0.67567568],\n",
       "       [0.        , 1.        ],\n",
       "       [1.        , 0.        ],\n",
       "       [0.22099448, 0.77900552],\n",
       "       [0.36410256, 0.63589744],\n",
       "       [1.        , 0.        ],\n",
       "       [1.        , 0.        ],\n",
       "       [0.        , 1.        ],\n",
       "       [1.        , 0.        ],\n",
       "       [1.        , 0.        ],\n",
       "       [0.01612903, 0.98387097],\n",
       "       [1.        , 0.        ],\n",
       "       [0.00588235, 0.99411765],\n",
       "       [0.98837209, 0.01162791],\n",
       "       [0.92708333, 0.07291667],\n",
       "       [0.95187166, 0.04812834],\n",
       "       [0.97222222, 0.02777778],\n",
       "       [0.        , 1.        ],\n",
       "       [0.06632653, 0.93367347],\n",
       "       [0.99421965, 0.00578035],\n",
       "       [0.00588235, 0.99411765],\n",
       "       [0.        , 1.        ],\n",
       "       [0.01052632, 0.98947368],\n",
       "       [0.99479167, 0.00520833],\n",
       "       [0.75126904, 0.24873096],\n",
       "       [0.44444444, 0.55555556],\n",
       "       [0.99421965, 0.00578035],\n",
       "       [0.        , 1.        ],\n",
       "       [0.73195876, 0.26804124],\n",
       "       [1.        , 0.        ],\n",
       "       [1.        , 0.        ],\n",
       "       [0.87234043, 0.12765957],\n",
       "       [1.        , 0.        ],\n",
       "       [0.60209424, 0.39790576],\n",
       "       [0.0989011 , 0.9010989 ],\n",
       "       [0.64571429, 0.35428571],\n",
       "       [0.91370558, 0.08629442],\n",
       "       [0.        , 1.        ],\n",
       "       [0.18902439, 0.81097561],\n",
       "       [0.91304348, 0.08695652],\n",
       "       [1.        , 0.        ],\n",
       "       [0.        , 1.        ],\n",
       "       [1.        , 0.        ],\n",
       "       [0.        , 1.        ],\n",
       "       [0.02717391, 0.97282609],\n",
       "       [0.04615385, 0.95384615],\n",
       "       [0.33519553, 0.66480447],\n",
       "       [1.        , 0.        ],\n",
       "       [0.        , 1.        ],\n",
       "       [0.84186047, 0.15813953],\n",
       "       [0.00591716, 0.99408284],\n",
       "       [0.        , 1.        ],\n",
       "       [0.00537634, 0.99462366],\n",
       "       [0.23913043, 0.76086957],\n",
       "       [1.        , 0.        ],\n",
       "       [0.        , 1.        ],\n",
       "       [0.        , 1.        ],\n",
       "       [0.        , 1.        ],\n",
       "       [0.95930233, 0.04069767],\n",
       "       [0.75555556, 0.24444444],\n",
       "       [0.00492611, 0.99507389],\n",
       "       [1.        , 0.        ],\n",
       "       [0.17679558, 0.82320442],\n",
       "       [0.67428571, 0.32571429],\n",
       "       [0.        , 1.        ],\n",
       "       [0.04324324, 0.95675676],\n",
       "       [0.50543478, 0.49456522],\n",
       "       [1.        , 0.        ],\n",
       "       [0.01578947, 0.98421053],\n",
       "       [1.        , 0.        ],\n",
       "       [0.20338983, 0.79661017],\n",
       "       [0.49751244, 0.50248756],\n",
       "       [1.        , 0.        ],\n",
       "       [0.02197802, 0.97802198],\n",
       "       [0.98324022, 0.01675978],\n",
       "       [0.29166667, 0.70833333],\n",
       "       [0.8814433 , 0.1185567 ],\n",
       "       [1.        , 0.        ],\n",
       "       [1.        , 0.        ],\n",
       "       [0.        , 1.        ],\n",
       "       [0.        , 1.        ],\n",
       "       [0.74033149, 0.25966851],\n",
       "       [1.        , 0.        ],\n",
       "       [0.        , 1.        ],\n",
       "       [1.        , 0.        ],\n",
       "       [1.        , 0.        ],\n",
       "       [1.        , 0.        ],\n",
       "       [0.99401198, 0.00598802],\n",
       "       [1.        , 0.        ],\n",
       "       [0.00502513, 0.99497487],\n",
       "       [0.94871795, 0.05128205],\n",
       "       [1.        , 0.        ],\n",
       "       [0.01657459, 0.98342541],\n",
       "       [0.18716578, 0.81283422],\n",
       "       [0.945     , 0.055     ],\n",
       "       [0.27672956, 0.72327044],\n",
       "       [0.98895028, 0.01104972],\n",
       "       [0.        , 1.        ],\n",
       "       [0.        , 1.        ],\n",
       "       [0.67875648, 0.32124352],\n",
       "       [0.44559585, 0.55440415],\n",
       "       [0.465     , 0.535     ],\n",
       "       [0.87692308, 0.12307692],\n",
       "       [0.95675676, 0.04324324],\n",
       "       [0.08092486, 0.91907514],\n",
       "       [0.82587065, 0.17412935],\n",
       "       [0.00568182, 0.99431818],\n",
       "       [0.        , 1.        ],\n",
       "       [0.03125   , 0.96875   ],\n",
       "       [0.99462366, 0.00537634],\n",
       "       [0.98795181, 0.01204819],\n",
       "       [1.        , 0.        ],\n",
       "       [0.01522843, 0.98477157],\n",
       "       [0.        , 1.        ],\n",
       "       [0.00534759, 0.99465241],\n",
       "       [0.        , 1.        ],\n",
       "       [1.        , 0.        ],\n",
       "       [1.        , 0.        ],\n",
       "       [0.95348837, 0.04651163],\n",
       "       [1.        , 0.        ],\n",
       "       [1.        , 0.        ],\n",
       "       [1.        , 0.        ],\n",
       "       [0.        , 1.        ],\n",
       "       [0.29585799, 0.70414201],\n",
       "       [0.25903614, 0.74096386],\n",
       "       [0.        , 1.        ],\n",
       "       [0.        , 1.        ],\n",
       "       [0.31318681, 0.68681319],\n",
       "       [1.        , 0.        ],\n",
       "       [1.        , 0.        ],\n",
       "       [0.        , 1.        ],\n",
       "       [1.        , 0.        ],\n",
       "       [0.01081081, 0.98918919],\n",
       "       [0.        , 1.        ],\n",
       "       [0.98125   , 0.01875   ],\n",
       "       [0.        , 1.        ],\n",
       "       [0.        , 1.        ],\n",
       "       [1.        , 0.        ],\n",
       "       [0.        , 1.        ],\n",
       "       [0.62566845, 0.37433155],\n",
       "       [0.93529412, 0.06470588],\n",
       "       [0.        , 1.        ],\n",
       "       [0.98969072, 0.01030928],\n",
       "       [1.        , 0.        ],\n",
       "       [1.        , 0.        ],\n",
       "       [0.        , 1.        ],\n",
       "       [0.        , 1.        ],\n",
       "       [1.        , 0.        ],\n",
       "       [0.08108108, 0.91891892],\n",
       "       [1.        , 0.        ],\n",
       "       [0.04761905, 0.95238095],\n",
       "       [0.        , 1.        ],\n",
       "       [1.        , 0.        ],\n",
       "       [0.        , 1.        ],\n",
       "       [0.03645833, 0.96354167],\n",
       "       [0.99470899, 0.00529101],\n",
       "       [0.95876289, 0.04123711],\n",
       "       [0.78723404, 0.21276596],\n",
       "       [0.53977273, 0.46022727],\n",
       "       [0.        , 1.        ],\n",
       "       [0.15135135, 0.84864865],\n",
       "       [1.        , 0.        ],\n",
       "       [0.95321637, 0.04678363],\n",
       "       [0.97959184, 0.02040816],\n",
       "       [1.        , 0.        ],\n",
       "       [0.00531915, 0.99468085],\n",
       "       [0.        , 1.        ],\n",
       "       [0.44559585, 0.55440415],\n",
       "       [0.78918919, 0.21081081],\n",
       "       [0.        , 1.        ],\n",
       "       [0.        , 1.        ],\n",
       "       [1.        , 0.        ],\n",
       "       [0.01075269, 0.98924731],\n",
       "       [0.        , 1.        ],\n",
       "       [0.95054945, 0.04945055],\n",
       "       [0.        , 1.        ],\n",
       "       [0.24324324, 0.75675676],\n",
       "       [0.        , 1.        ],\n",
       "       [1.        , 0.        ],\n",
       "       [0.        , 1.        ],\n",
       "       [0.00549451, 0.99450549],\n",
       "       [0.98918919, 0.01081081],\n",
       "       [0.85057471, 0.14942529],\n",
       "       [1.        , 0.        ],\n",
       "       [0.00507614, 0.99492386],\n",
       "       [0.06282723, 0.93717277],\n",
       "       [0.99408284, 0.00591716],\n",
       "       [0.06382979, 0.93617021],\n",
       "       [0.        , 1.        ],\n",
       "       [0.04787234, 0.95212766],\n",
       "       [0.99450549, 0.00549451],\n",
       "       [0.80904523, 0.19095477],\n",
       "       [0.        , 1.        ],\n",
       "       [0.88554217, 0.11445783],\n",
       "       [0.98870056, 0.01129944],\n",
       "       [0.19889503, 0.80110497],\n",
       "       [0.17619048, 0.82380952],\n",
       "       [1.        , 0.        ],\n",
       "       [0.        , 1.        ],\n",
       "       [0.        , 1.        ],\n",
       "       [0.        , 1.        ],\n",
       "       [0.21714286, 0.78285714],\n",
       "       [0.94086022, 0.05913978],\n",
       "       [0.        , 1.        ],\n",
       "       [1.        , 0.        ],\n",
       "       [0.99447514, 0.00552486],\n",
       "       [0.        , 1.        ],\n",
       "       [0.50877193, 0.49122807],\n",
       "       [1.        , 0.        ],\n",
       "       [0.        , 1.        ],\n",
       "       [1.        , 0.        ],\n",
       "       [0.        , 1.        ],\n",
       "       [0.        , 1.        ],\n",
       "       [0.11046512, 0.88953488],\n",
       "       [0.16184971, 0.83815029],\n",
       "       [0.99425287, 0.00574713],\n",
       "       [0.0106383 , 0.9893617 ],\n",
       "       [1.        , 0.        ],\n",
       "       [0.40314136, 0.59685864],\n",
       "       [0.07909605, 0.92090395],\n",
       "       [0.49222798, 0.50777202],\n",
       "       [0.59235669, 0.40764331],\n",
       "       [0.        , 1.        ],\n",
       "       [1.        , 0.        ],\n",
       "       [0.        , 1.        ],\n",
       "       [0.        , 1.        ],\n",
       "       [0.58854167, 0.41145833],\n",
       "       [0.        , 1.        ],\n",
       "       [1.        , 0.        ],\n",
       "       [0.22772277, 0.77227723],\n",
       "       [0.81420765, 0.18579235],\n",
       "       [0.0880829 , 0.9119171 ],\n",
       "       [1.        , 0.        ],\n",
       "       [0.81666667, 0.18333333],\n",
       "       [0.        , 1.        ],\n",
       "       [0.01069519, 0.98930481],\n",
       "       [0.11290323, 0.88709677],\n",
       "       [0.04232804, 0.95767196],\n",
       "       [0.        , 1.        ],\n",
       "       [1.        , 0.        ],\n",
       "       [0.93442623, 0.06557377],\n",
       "       [0.13114754, 0.86885246],\n",
       "       [0.9558011 , 0.0441989 ],\n",
       "       [0.00531915, 0.99468085],\n",
       "       [0.54491018, 0.45508982],\n",
       "       [0.08287293, 0.91712707],\n",
       "       [0.98255814, 0.01744186],\n",
       "       [0.7606383 , 0.2393617 ],\n",
       "       [0.        , 1.        ],\n",
       "       [1.        , 0.        ],\n",
       "       [0.91515152, 0.08484848],\n",
       "       [0.        , 1.        ],\n",
       "       [0.        , 1.        ],\n",
       "       [1.        , 0.        ],\n",
       "       [0.        , 1.        ],\n",
       "       [1.        , 0.        ],\n",
       "       [0.28421053, 0.71578947],\n",
       "       [0.98342541, 0.01657459],\n",
       "       [1.        , 0.        ],\n",
       "       [0.        , 1.        ],\n",
       "       [0.00564972, 0.99435028],\n",
       "       [0.85964912, 0.14035088],\n",
       "       [0.        , 1.        ],\n",
       "       [1.        , 0.        ],\n",
       "       [0.78609626, 0.21390374],\n",
       "       [0.94680851, 0.05319149],\n",
       "       [1.        , 0.        ],\n",
       "       [0.67032967, 0.32967033],\n",
       "       [0.47852761, 0.52147239],\n",
       "       [0.        , 1.        ],\n",
       "       [0.91005291, 0.08994709],\n",
       "       [0.        , 1.        ],\n",
       "       [1.        , 0.        ],\n",
       "       [0.84491979, 0.15508021],\n",
       "       [1.        , 0.        ],\n",
       "       [1.        , 0.        ],\n",
       "       [0.78350515, 0.21649485],\n",
       "       [0.09340659, 0.90659341],\n",
       "       [0.42245989, 0.57754011],\n",
       "       [0.23170732, 0.76829268],\n",
       "       [0.        , 1.        ],\n",
       "       [0.87116564, 0.12883436],\n",
       "       [0.8708134 , 0.1291866 ],\n",
       "       [0.        , 1.        ],\n",
       "       [1.        , 0.        ],\n",
       "       [0.99468085, 0.00531915],\n",
       "       [1.        , 0.        ],\n",
       "       [0.        , 1.        ],\n",
       "       [0.01515152, 0.98484848],\n",
       "       [0.92934783, 0.07065217],\n",
       "       [0.95135135, 0.04864865],\n",
       "       [1.        , 0.        ],\n",
       "       [0.52272727, 0.47727273],\n",
       "       [1.        , 0.        ],\n",
       "       [0.00571429, 0.99428571],\n",
       "       [0.97326203, 0.02673797],\n",
       "       [0.02259887, 0.97740113],\n",
       "       [1.        , 0.        ],\n",
       "       [1.        , 0.        ],\n",
       "       [1.        , 0.        ],\n",
       "       [0.        , 1.        ],\n",
       "       [0.98395722, 0.01604278],\n",
       "       [0.        , 1.        ],\n",
       "       [0.06145251, 0.93854749],\n",
       "       [0.        , 1.        ],\n",
       "       [0.        , 1.        ],\n",
       "       [1.        , 0.        ],\n",
       "       [1.        , 0.        ],\n",
       "       [0.        , 1.        ],\n",
       "       [0.99450549, 0.00549451],\n",
       "       [0.02366864, 0.97633136],\n",
       "       [1.        , 0.        ],\n",
       "       [0.10526316, 0.89473684],\n",
       "       [0.        , 1.        ],\n",
       "       [0.01086957, 0.98913043],\n",
       "       [0.        , 1.        ],\n",
       "       [0.39884393, 0.60115607],\n",
       "       [0.0952381 , 0.9047619 ],\n",
       "       [0.23369565, 0.76630435],\n",
       "       [1.        , 0.        ],\n",
       "       [0.99459459, 0.00540541],\n",
       "       [0.2       , 0.8       ],\n",
       "       [0.99484536, 0.00515464],\n",
       "       [0.        , 1.        ],\n",
       "       [0.        , 1.        ],\n",
       "       [1.        , 0.        ],\n",
       "       [0.94705882, 0.05294118],\n",
       "       [0.28961749, 0.71038251],\n",
       "       [0.98816568, 0.01183432],\n",
       "       [1.        , 0.        ],\n",
       "       [0.        , 1.        ],\n",
       "       [0.98924731, 0.01075269],\n",
       "       [0.        , 1.        ],\n",
       "       [0.04712042, 0.95287958],\n",
       "       [0.97297297, 0.02702703],\n",
       "       [1.        , 0.        ],\n",
       "       [0.03225806, 0.96774194],\n",
       "       [0.56896552, 0.43103448]])"
      ]
     },
     "execution_count": 13,
     "metadata": {},
     "output_type": "execute_result"
    }
   ],
   "source": [
    "bag_clf.oob_decision_function_"
   ]
  },
  {
   "cell_type": "markdown",
   "id": "aa1aa8c8",
   "metadata": {},
   "source": [
    "# Random Patches and Random Subspaces"
   ]
  },
  {
   "cell_type": "markdown",
   "id": "0588f855",
   "metadata": {},
   "source": [
    "## Random Forests"
   ]
  },
  {
   "cell_type": "code",
   "execution_count": 14,
   "id": "1f350883",
   "metadata": {
    "ExecuteTime": {
     "end_time": "2021-06-24T13:27:13.999933Z",
     "start_time": "2021-06-24T13:27:12.819291Z"
    }
   },
   "outputs": [],
   "source": [
    "from sklearn.ensemble import RandomForestClassifier\n",
    "\n",
    "rnd_clf = RandomForestClassifier(n_estimators=500, max_leaf_nodes=16, n_jobs=-1)\n",
    "rnd_clf.fit(X_train, y_train)\n",
    "\n",
    "y_pred_rf = rnd_clf.predict(X_test)"
   ]
  },
  {
   "cell_type": "code",
   "execution_count": null,
   "id": "16b18049",
   "metadata": {},
   "outputs": [],
   "source": [
    "bag_clf = BaggingClassifier(\n",
    "    DecisionTreeClassifier(splitter=\"random\", max_leaf_nodes=16),\n",
    "    n_estimators=500, max_samples=1.0, bootstrap=True, n_jobs=-1\n",
    ")"
   ]
  },
  {
   "cell_type": "markdown",
   "id": "c9783dcc",
   "metadata": {},
   "source": [
    "## Feature Importance"
   ]
  },
  {
   "cell_type": "code",
   "execution_count": 15,
   "id": "c96ff4aa",
   "metadata": {
    "ExecuteTime": {
     "end_time": "2021-06-24T13:30:32.437236Z",
     "start_time": "2021-06-24T13:30:30.845743Z"
    }
   },
   "outputs": [
    {
     "name": "stdout",
     "output_type": "stream",
     "text": [
      "sepal length (cm) 0.09570596855869394\n",
      "sepal width (cm) 0.023040863125488174\n",
      "petal length (cm) 0.46115585993480945\n",
      "petal width (cm) 0.42009730838100856\n"
     ]
    }
   ],
   "source": [
    "from sklearn.datasets import load_iris\n",
    "\n",
    "iris = load_iris()\n",
    "rnd_clf = RandomForestClassifier(n_estimators=500, n_jobs=-1)\n",
    "rnd_clf.fit(iris[\"data\"], iris[\"target\"])\n",
    "for name, score in zip(iris[\"feature_names\"], rnd_clf.feature_importances_):\n",
    "    print(name, score)"
   ]
  },
  {
   "cell_type": "markdown",
   "id": "33cee16d",
   "metadata": {},
   "source": [
    "# Boosting"
   ]
  },
  {
   "cell_type": "markdown",
   "id": "a01d049f",
   "metadata": {},
   "source": [
    "## AdaBoost"
   ]
  },
  {
   "cell_type": "code",
   "execution_count": 16,
   "id": "479c41b3",
   "metadata": {
    "ExecuteTime": {
     "end_time": "2021-06-24T13:33:19.249227Z",
     "start_time": "2021-06-24T13:33:19.019094Z"
    }
   },
   "outputs": [
    {
     "data": {
      "text/plain": [
       "AdaBoostClassifier(base_estimator=DecisionTreeClassifier(max_depth=1),\n",
       "                   learning_rate=0.5, n_estimators=200)"
      ]
     },
     "execution_count": 16,
     "metadata": {},
     "output_type": "execute_result"
    }
   ],
   "source": [
    "from sklearn.ensemble import AdaBoostClassifier\n",
    "\n",
    "ada_clf = AdaBoostClassifier(\n",
    "    DecisionTreeClassifier(max_depth=1), n_estimators=200,\n",
    "    algorithm=\"SAMME.R\", learning_rate=0.5\n",
    ")\n",
    "ada_clf.fit(X_train, y_train)"
   ]
  },
  {
   "cell_type": "markdown",
   "id": "7b4defd9",
   "metadata": {},
   "source": [
    "## Gradient Boosting"
   ]
  },
  {
   "cell_type": "code",
   "execution_count": 17,
   "id": "4281abfc",
   "metadata": {
    "ExecuteTime": {
     "end_time": "2021-06-24T13:44:58.087212Z",
     "start_time": "2021-06-24T13:44:58.083193Z"
    }
   },
   "outputs": [],
   "source": [
    "np.random.seed(42)\n",
    "X = np.random.rand(100, 1) - 0.5\n",
    "y = 3 * X[:, 0]**2 + 0.05 * np.random.randn(100)"
   ]
  },
  {
   "cell_type": "code",
   "execution_count": 18,
   "id": "62ea2653",
   "metadata": {
    "ExecuteTime": {
     "end_time": "2021-06-24T13:45:32.000964Z",
     "start_time": "2021-06-24T13:45:31.994046Z"
    }
   },
   "outputs": [
    {
     "data": {
      "text/plain": [
       "DecisionTreeRegressor(max_depth=2, random_state=42)"
      ]
     },
     "execution_count": 18,
     "metadata": {},
     "output_type": "execute_result"
    }
   ],
   "source": [
    "from sklearn.tree import DecisionTreeRegressor\n",
    "\n",
    "tree_reg1 = DecisionTreeRegressor(max_depth=2, random_state=42)\n",
    "tree_reg1.fit(X, y)"
   ]
  },
  {
   "cell_type": "code",
   "execution_count": 19,
   "id": "7646abc7",
   "metadata": {
    "ExecuteTime": {
     "end_time": "2021-06-24T13:46:39.731812Z",
     "start_time": "2021-06-24T13:46:39.724302Z"
    }
   },
   "outputs": [
    {
     "data": {
      "text/plain": [
       "DecisionTreeRegressor(max_depth=2)"
      ]
     },
     "execution_count": 19,
     "metadata": {},
     "output_type": "execute_result"
    }
   ],
   "source": [
    "y2 = y - tree_reg1.predict(X)\n",
    "tree_reg2 = DecisionTreeRegressor(max_depth=2)\n",
    "tree_reg2.fit(X, y2)"
   ]
  },
  {
   "cell_type": "code",
   "execution_count": 20,
   "id": "c52f0030",
   "metadata": {
    "ExecuteTime": {
     "end_time": "2021-06-24T13:47:19.148708Z",
     "start_time": "2021-06-24T13:47:19.141767Z"
    }
   },
   "outputs": [
    {
     "data": {
      "text/plain": [
       "DecisionTreeRegressor(max_depth=2)"
      ]
     },
     "execution_count": 20,
     "metadata": {},
     "output_type": "execute_result"
    }
   ],
   "source": [
    "y3 = y2 - tree_reg2.predict(X)\n",
    "tree_reg3 = DecisionTreeRegressor(max_depth=2)\n",
    "tree_reg3.fit(X, y3)"
   ]
  },
  {
   "cell_type": "code",
   "execution_count": 21,
   "id": "04b50a73",
   "metadata": {
    "ExecuteTime": {
     "end_time": "2021-06-24T13:48:36.552412Z",
     "start_time": "2021-06-24T13:48:36.548824Z"
    }
   },
   "outputs": [],
   "source": [
    "X_new = np.array([[0.8]])"
   ]
  },
  {
   "cell_type": "code",
   "execution_count": 22,
   "id": "2f5faf2b",
   "metadata": {
    "ExecuteTime": {
     "end_time": "2021-06-24T13:48:57.456036Z",
     "start_time": "2021-06-24T13:48:57.449668Z"
    }
   },
   "outputs": [
    {
     "data": {
      "text/plain": [
       "array([0.75026781])"
      ]
     },
     "execution_count": 22,
     "metadata": {},
     "output_type": "execute_result"
    }
   ],
   "source": [
    "y_pred = sum(tree.predict(X_new) for tree in (tree_reg1, tree_reg2, tree_reg3))\n",
    "y_pred"
   ]
  },
  {
   "cell_type": "code",
   "execution_count": 23,
   "id": "357067bf",
   "metadata": {
    "ExecuteTime": {
     "end_time": "2021-06-24T13:51:31.163746Z",
     "start_time": "2021-06-24T13:51:31.155274Z"
    }
   },
   "outputs": [
    {
     "data": {
      "text/plain": [
       "GradientBoostingRegressor(learning_rate=1.0, max_depth=2, n_estimators=3)"
      ]
     },
     "execution_count": 23,
     "metadata": {},
     "output_type": "execute_result"
    }
   ],
   "source": [
    "from sklearn.ensemble import GradientBoostingRegressor\n",
    "\n",
    "gbrt = GradientBoostingRegressor(max_depth=2, n_estimators=3, learning_rate=1.0)\n",
    "gbrt.fit(X, y)"
   ]
  },
  {
   "cell_type": "code",
   "execution_count": 24,
   "id": "4864946f",
   "metadata": {
    "ExecuteTime": {
     "end_time": "2021-06-24T14:14:44.069290Z",
     "start_time": "2021-06-24T14:14:44.005115Z"
    }
   },
   "outputs": [
    {
     "data": {
      "text/plain": [
       "GradientBoostingRegressor(max_depth=2, n_estimators=85)"
      ]
     },
     "execution_count": 24,
     "metadata": {},
     "output_type": "execute_result"
    }
   ],
   "source": [
    "import numpy as np\n",
    "from sklearn.model_selection import train_test_split\n",
    "from sklearn.metrics import mean_squared_error\n",
    "\n",
    "X_train, X_val, y_train, y_val = train_test_split(X, y)\n",
    "\n",
    "gbrt = GradientBoostingRegressor(max_depth=2, n_estimators=120)\n",
    "gbrt.fit(X_train, y_train)\n",
    "\n",
    "errors = [mean_squared_error(y_val, y_pred) for y_pred in gbrt.staged_predict(X_val)]\n",
    "bst_n_estimators = np.argmin(errors) + 1\n",
    "\n",
    "gbrt_best = GradientBoostingRegressor(max_depth=2, n_estimators=bst_n_estimators)\n",
    "gbrt_best.fit(X_train, y_train)"
   ]
  },
  {
   "cell_type": "code",
   "execution_count": 26,
   "id": "1d901f63",
   "metadata": {
    "ExecuteTime": {
     "end_time": "2021-06-24T14:18:08.364326Z",
     "start_time": "2021-06-24T14:18:08.302483Z"
    }
   },
   "outputs": [],
   "source": [
    "gbrt = GradientBoostingRegressor(max_depth=2, warm_start=True)\n",
    "\n",
    "min_val_error = float(\"inf\")\n",
    "error_going_up = 0\n",
    "for n_estimators in range(1, 120):\n",
    "    gbrt.n_estimators = n_estimators\n",
    "    gbrt.fit(X_train, y_train)\n",
    "    y_pred = gbrt.predict(X_val)\n",
    "    val_error = mean_squared_error(y_val, y_pred)\n",
    "    if val_error < min_val_error:\n",
    "        min_val_error = val_error\n",
    "        error_going_up = 0\n",
    "    else:\n",
    "        error_going_up += 1\n",
    "        if error_going_up == 5:\n",
    "            break  # early stopping"
   ]
  },
  {
   "cell_type": "code",
   "execution_count": null,
   "id": "08c07ddc",
   "metadata": {},
   "outputs": [],
   "source": []
  }
 ],
 "metadata": {
  "kernelspec": {
   "display_name": "Python 3",
   "language": "python",
   "name": "python3"
  },
  "language_info": {
   "codemirror_mode": {
    "name": "ipython",
    "version": 3
   },
   "file_extension": ".py",
   "mimetype": "text/x-python",
   "name": "python",
   "nbconvert_exporter": "python",
   "pygments_lexer": "ipython3",
   "version": "3.9.5"
  },
  "latex_envs": {
   "LaTeX_envs_menu_present": true,
   "autoclose": false,
   "autocomplete": true,
   "bibliofile": "biblio.bib",
   "cite_by": "apalike",
   "current_citInitial": 1,
   "eqLabelWithNumbers": true,
   "eqNumInitial": 1,
   "hotkeys": {
    "equation": "Ctrl-E",
    "itemize": "Ctrl-I"
   },
   "labels_anchors": false,
   "latex_user_defs": false,
   "report_style_numbering": false,
   "user_envs_cfg": false
  },
  "toc": {
   "base_numbering": 1,
   "nav_menu": {},
   "number_sections": true,
   "sideBar": true,
   "skip_h1_title": false,
   "title_cell": "Table of Contents",
   "title_sidebar": "Contents",
   "toc_cell": false,
   "toc_position": {},
   "toc_section_display": true,
   "toc_window_display": false
  }
 },
 "nbformat": 4,
 "nbformat_minor": 5
}
