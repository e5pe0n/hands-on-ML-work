{
 "cells": [
  {
   "cell_type": "code",
   "execution_count": 2,
   "id": "c348df7f",
   "metadata": {
    "ExecuteTime": {
     "end_time": "2021-07-09T10:38:37.033067Z",
     "start_time": "2021-07-09T10:38:33.498357Z"
    }
   },
   "outputs": [],
   "source": [
    "%matplotlib inline\n",
    "from tensorflow import keras\n",
    "import tensorflow as tf\n",
    "import numpy as np\n",
    "import pandas as pd\n",
    "import matplotlib.pyplot as plt\n",
    "import matplotlib as mpl\n",
    "plt.style.use(\"Solarize_Light2\")"
   ]
  },
  {
   "cell_type": "markdown",
   "id": "ddb41751",
   "metadata": {},
   "source": [
    "# The Vanishing/Exploding Gradients Problems"
   ]
  },
  {
   "cell_type": "markdown",
   "id": "2c0c0b4f",
   "metadata": {},
   "source": [
    "## Batch Normalization"
   ]
  },
  {
   "cell_type": "markdown",
   "id": "bcd4d88f",
   "metadata": {},
   "source": [
    "### Implementing Batch Normalization with Keras"
   ]
  },
  {
   "cell_type": "code",
   "execution_count": 3,
   "id": "3c529d91",
   "metadata": {
    "ExecuteTime": {
     "end_time": "2021-07-06T18:23:24.684032Z",
     "start_time": "2021-07-06T18:23:24.606032Z"
    }
   },
   "outputs": [],
   "source": [
    "model = keras.models.Sequential([\n",
    "    keras.layers.Flatten(input_shape=[28, 28]),\n",
    "    keras.layers.BatchNormalization(),\n",
    "    keras.layers.Dense(300, activation=\"elu\", kernel_initializer=\"he_normal\"),\n",
    "    keras.layers.BatchNormalization(),\n",
    "    keras.layers.Dense(100, activation=\"elu\", kernel_initializer=\"he_normal\"),\n",
    "    keras.layers.BatchNormalization(),\n",
    "    keras.layers.Dense(10, activation=\"softmax\"),\n",
    "])"
   ]
  },
  {
   "cell_type": "code",
   "execution_count": 4,
   "id": "cd6fc7f6",
   "metadata": {
    "ExecuteTime": {
     "end_time": "2021-07-06T18:23:51.196079Z",
     "start_time": "2021-07-06T18:23:51.185540Z"
    }
   },
   "outputs": [
    {
     "name": "stdout",
     "output_type": "stream",
     "text": [
      "Model: \"sequential\"\n",
      "_________________________________________________________________\n",
      "Layer (type)                 Output Shape              Param #   \n",
      "=================================================================\n",
      "flatten (Flatten)            (None, 784)               0         \n",
      "_________________________________________________________________\n",
      "batch_normalization (BatchNo (None, 784)               3136      \n",
      "_________________________________________________________________\n",
      "dense (Dense)                (None, 300)               235500    \n",
      "_________________________________________________________________\n",
      "batch_normalization_1 (Batch (None, 300)               1200      \n",
      "_________________________________________________________________\n",
      "dense_1 (Dense)              (None, 100)               30100     \n",
      "_________________________________________________________________\n",
      "batch_normalization_2 (Batch (None, 100)               400       \n",
      "_________________________________________________________________\n",
      "dense_2 (Dense)              (None, 10)                1010      \n",
      "=================================================================\n",
      "Total params: 271,346\n",
      "Trainable params: 268,978\n",
      "Non-trainable params: 2,368\n",
      "_________________________________________________________________\n"
     ]
    }
   ],
   "source": [
    "model.summary()"
   ]
  },
  {
   "cell_type": "code",
   "execution_count": 5,
   "id": "53331b53",
   "metadata": {
    "ExecuteTime": {
     "end_time": "2021-07-06T18:26:03.879051Z",
     "start_time": "2021-07-06T18:26:03.871890Z"
    }
   },
   "outputs": [
    {
     "data": {
      "text/plain": [
       "[('batch_normalization/gamma:0', True),\n",
       " ('batch_normalization/beta:0', True),\n",
       " ('batch_normalization/moving_mean:0', False),\n",
       " ('batch_normalization/moving_variance:0', False)]"
      ]
     },
     "execution_count": 5,
     "metadata": {},
     "output_type": "execute_result"
    }
   ],
   "source": [
    "[(var.name, var.trainable) for var in model.layers[1].variables]"
   ]
  },
  {
   "cell_type": "code",
   "execution_count": 6,
   "id": "4922ce2f",
   "metadata": {
    "ExecuteTime": {
     "end_time": "2021-07-06T18:26:38.340967Z",
     "start_time": "2021-07-06T18:26:38.333658Z"
    }
   },
   "outputs": [
    {
     "name": "stderr",
     "output_type": "stream",
     "text": [
      "/root/.pyenv/versions/3.9.5/lib/python3.9/site-packages/tensorflow/python/keras/engine/base_layer.py:1331: UserWarning: `layer.updates` will be removed in a future version. This property should not be used in TensorFlow 2.0, as `updates` are applied automatically.\n",
      "  warnings.warn('`layer.updates` will be removed in a future version. '\n"
     ]
    },
    {
     "data": {
      "text/plain": [
       "[]"
      ]
     },
     "execution_count": 6,
     "metadata": {},
     "output_type": "execute_result"
    }
   ],
   "source": [
    "model.layers[1].updates"
   ]
  },
  {
   "cell_type": "code",
   "execution_count": 8,
   "id": "3e7242a5",
   "metadata": {
    "ExecuteTime": {
     "end_time": "2021-07-06T18:32:24.062633Z",
     "start_time": "2021-07-06T18:32:24.002460Z"
    }
   },
   "outputs": [],
   "source": [
    "model = keras.models.Sequential([\n",
    "    keras.layers.Flatten(input_shape=[28, 28]),\n",
    "    keras.layers.BatchNormalization(),\n",
    "    keras.layers.Dense(300, kernel_initializer=\"he_normal\", use_bias=False),\n",
    "    keras.layers.BatchNormalization(),\n",
    "    keras.layers.Activation(\"elu\"),\n",
    "    keras.layers.Dense(100, kernel_initializer=\"he_normal\", use_bias=False),\n",
    "    keras.layers.BatchNormalization(),\n",
    "    keras.layers.Activation(\"elu\"),\n",
    "    keras.layers.Dense(10, activation=\"softmax\"),\n",
    "])"
   ]
  },
  {
   "cell_type": "markdown",
   "id": "11f8c303",
   "metadata": {},
   "source": [
    "# Reusing Pretrained Layers"
   ]
  },
  {
   "cell_type": "markdown",
   "id": "ee9c98b2",
   "metadata": {},
   "source": [
    "## Transfer Learning with Keras"
   ]
  },
  {
   "cell_type": "code",
   "execution_count": 9,
   "id": "cd87faf4",
   "metadata": {
    "ExecuteTime": {
     "end_time": "2021-07-07T13:48:00.932188Z",
     "start_time": "2021-07-07T13:48:00.447044Z"
    }
   },
   "outputs": [],
   "source": [
    "(X_train_full, y_train_full), (X_test, y_test) = keras.datasets.fashion_mnist.load_data()\n",
    "X_train_full = X_train_full / 255.0\n",
    "X_test = X_test / 255.0\n",
    "X_valid, X_train = X_train_full[:5000], X_train_full[5000:]\n",
    "y_valid, y_train = y_train_full[:5000], y_train_full[5000:]"
   ]
  },
  {
   "cell_type": "code",
   "execution_count": 12,
   "id": "33cb2aad",
   "metadata": {
    "ExecuteTime": {
     "end_time": "2021-07-07T13:52:35.075990Z",
     "start_time": "2021-07-07T13:52:35.071693Z"
    }
   },
   "outputs": [],
   "source": [
    "def split_dataset(X, y):\n",
    "    y_5_or_6 = (y == 5) | (y == 6)\n",
    "    y_A = y[~y_5_or_6]\n",
    "    y_A[y_A > 6] -= 2\n",
    "    y_B = (y[y_5_or_6] == 6).astype(np.float32)\n",
    "    return ((X[~y_5_or_6], y_A), (X[y_5_or_6], y_B))"
   ]
  },
  {
   "cell_type": "code",
   "execution_count": 13,
   "id": "1ea830cb",
   "metadata": {
    "ExecuteTime": {
     "end_time": "2021-07-07T13:52:35.813776Z",
     "start_time": "2021-07-07T13:52:35.439102Z"
    }
   },
   "outputs": [],
   "source": [
    "(X_train_A, y_train_A), (X_train_B, y_train_B) = split_dataset(X_train, y_train)\n",
    "(X_valid_A, y_valid_A), (X_valid_B, y_valid_B) = split_dataset(X_valid, y_valid)\n",
    "(X_test_A, y_test_A), (X_test_B, y_test_B) = split_dataset(X_test, y_test)\n",
    "X_train_B = X_train_B[:200]\n",
    "y_train_B = y_train_B[:200]"
   ]
  },
  {
   "cell_type": "code",
   "execution_count": 14,
   "id": "0e1703f8",
   "metadata": {
    "ExecuteTime": {
     "end_time": "2021-07-07T13:52:43.475304Z",
     "start_time": "2021-07-07T13:52:43.470046Z"
    }
   },
   "outputs": [
    {
     "data": {
      "text/plain": [
       "(43986, 28, 28)"
      ]
     },
     "execution_count": 14,
     "metadata": {},
     "output_type": "execute_result"
    }
   ],
   "source": [
    "X_train_A.shape"
   ]
  },
  {
   "cell_type": "code",
   "execution_count": 15,
   "id": "630b1e1f",
   "metadata": {
    "ExecuteTime": {
     "end_time": "2021-07-07T13:52:51.272907Z",
     "start_time": "2021-07-07T13:52:51.267578Z"
    }
   },
   "outputs": [
    {
     "data": {
      "text/plain": [
       "(200, 28, 28)"
      ]
     },
     "execution_count": 15,
     "metadata": {},
     "output_type": "execute_result"
    }
   ],
   "source": [
    "X_train_B.shape"
   ]
  },
  {
   "cell_type": "code",
   "execution_count": 16,
   "id": "9b9ef9a2",
   "metadata": {
    "ExecuteTime": {
     "end_time": "2021-07-07T13:52:55.922409Z",
     "start_time": "2021-07-07T13:52:55.917120Z"
    }
   },
   "outputs": [
    {
     "data": {
      "text/plain": [
       "array([4, 0, 5, 7, 7, 7, 4, 4, 3, 4, 0, 1, 6, 3, 4, 3, 2, 6, 5, 3, 4, 5,\n",
       "       1, 3, 4, 2, 0, 6, 7, 1], dtype=uint8)"
      ]
     },
     "execution_count": 16,
     "metadata": {},
     "output_type": "execute_result"
    }
   ],
   "source": [
    "y_train_A[:30]"
   ]
  },
  {
   "cell_type": "code",
   "execution_count": 17,
   "id": "207e02ff",
   "metadata": {
    "ExecuteTime": {
     "end_time": "2021-07-07T13:53:05.770714Z",
     "start_time": "2021-07-07T13:53:05.764842Z"
    }
   },
   "outputs": [
    {
     "data": {
      "text/plain": [
       "array([1., 1., 0., 0., 0., 0., 1., 1., 1., 0., 0., 1., 1., 0., 0., 0., 0.,\n",
       "       0., 0., 1., 1., 0., 0., 1., 1., 0., 1., 1., 1., 1.], dtype=float32)"
      ]
     },
     "execution_count": 17,
     "metadata": {},
     "output_type": "execute_result"
    }
   ],
   "source": [
    "y_train_B[:30]"
   ]
  },
  {
   "cell_type": "code",
   "execution_count": 18,
   "id": "1a9ce884",
   "metadata": {
    "ExecuteTime": {
     "end_time": "2021-07-07T13:53:20.420742Z",
     "start_time": "2021-07-07T13:53:20.417060Z"
    }
   },
   "outputs": [],
   "source": [
    "tf.random.set_seed(42)\n",
    "np.random.seed(42)"
   ]
  },
  {
   "cell_type": "code",
   "execution_count": 55,
   "id": "f5e60bdc",
   "metadata": {
    "ExecuteTime": {
     "end_time": "2021-07-07T14:37:05.807770Z",
     "start_time": "2021-07-07T14:37:05.759746Z"
    }
   },
   "outputs": [],
   "source": [
    "model_A = keras.models.Sequential()\n",
    "model_A.add(keras.layers.Flatten(input_shape=[28, 28]))\n",
    "for n_hidden in (300, 100, 50, 50, 50):\n",
    "    model_A.add(keras.layers.Dense(n_hidden, activation=\"selu\"))\n",
    "model_A.add(keras.layers.Dense(8, activation=\"softmax\"))    "
   ]
  },
  {
   "cell_type": "code",
   "execution_count": 56,
   "id": "d74e3993",
   "metadata": {
    "ExecuteTime": {
     "end_time": "2021-07-07T14:37:06.590901Z",
     "start_time": "2021-07-07T14:37:06.582734Z"
    }
   },
   "outputs": [],
   "source": [
    "model_A.compile(\n",
    "    loss=\"sparse_categorical_crossentropy\",\n",
    "    optimizer=keras.optimizers.SGD(learning_rate=1e-3),\n",
    "    metrics=[\"accuracy\"]\n",
    ")"
   ]
  },
  {
   "cell_type": "code",
   "execution_count": 57,
   "id": "f3056d8f",
   "metadata": {
    "ExecuteTime": {
     "end_time": "2021-07-07T14:38:12.033269Z",
     "start_time": "2021-07-07T14:37:07.607017Z"
    }
   },
   "outputs": [
    {
     "name": "stdout",
     "output_type": "stream",
     "text": [
      "Epoch 1/20\n",
      "1375/1375 [==============================] - 4s 2ms/step - loss: 0.5667 - accuracy: 0.8170 - val_loss: 0.3982 - val_accuracy: 0.8570\n",
      "Epoch 2/20\n",
      "1375/1375 [==============================] - 3s 2ms/step - loss: 0.3475 - accuracy: 0.8812 - val_loss: 0.3287 - val_accuracy: 0.8876\n",
      "Epoch 3/20\n",
      "1375/1375 [==============================] - 3s 2ms/step - loss: 0.3115 - accuracy: 0.8926 - val_loss: 0.3010 - val_accuracy: 0.9001\n",
      "Epoch 4/20\n",
      "1375/1375 [==============================] - 3s 2ms/step - loss: 0.2924 - accuracy: 0.8998 - val_loss: 0.2878 - val_accuracy: 0.9023\n",
      "Epoch 5/20\n",
      "1375/1375 [==============================] - 3s 2ms/step - loss: 0.2797 - accuracy: 0.9039 - val_loss: 0.2764 - val_accuracy: 0.9071\n",
      "Epoch 6/20\n",
      "1375/1375 [==============================] - 3s 2ms/step - loss: 0.2707 - accuracy: 0.9077 - val_loss: 0.2718 - val_accuracy: 0.9073\n",
      "Epoch 7/20\n",
      "1375/1375 [==============================] - 3s 2ms/step - loss: 0.2627 - accuracy: 0.9111 - val_loss: 0.2696 - val_accuracy: 0.9096\n",
      "Epoch 8/20\n",
      "1375/1375 [==============================] - 3s 2ms/step - loss: 0.2567 - accuracy: 0.9129 - val_loss: 0.2612 - val_accuracy: 0.9126\n",
      "Epoch 9/20\n",
      "1375/1375 [==============================] - 3s 2ms/step - loss: 0.2516 - accuracy: 0.9145 - val_loss: 0.2563 - val_accuracy: 0.9153\n",
      "Epoch 10/20\n",
      "1375/1375 [==============================] - 3s 2ms/step - loss: 0.2470 - accuracy: 0.9164 - val_loss: 0.2575 - val_accuracy: 0.9121\n",
      "Epoch 11/20\n",
      "1375/1375 [==============================] - 3s 2ms/step - loss: 0.2429 - accuracy: 0.9180 - val_loss: 0.2516 - val_accuracy: 0.9160\n",
      "Epoch 12/20\n",
      "1375/1375 [==============================] - 3s 2ms/step - loss: 0.2389 - accuracy: 0.9195 - val_loss: 0.2487 - val_accuracy: 0.9145\n",
      "Epoch 13/20\n",
      "1375/1375 [==============================] - 3s 2ms/step - loss: 0.2359 - accuracy: 0.9201 - val_loss: 0.2453 - val_accuracy: 0.9160\n",
      "Epoch 14/20\n",
      "1375/1375 [==============================] - 3s 2ms/step - loss: 0.2326 - accuracy: 0.9212 - val_loss: 0.2432 - val_accuracy: 0.9188\n",
      "Epoch 15/20\n",
      "1375/1375 [==============================] - 3s 2ms/step - loss: 0.2298 - accuracy: 0.9220 - val_loss: 0.2481 - val_accuracy: 0.9158\n",
      "Epoch 16/20\n",
      "1375/1375 [==============================] - 3s 2ms/step - loss: 0.2268 - accuracy: 0.9234 - val_loss: 0.2405 - val_accuracy: 0.9193\n",
      "Epoch 17/20\n",
      "1375/1375 [==============================] - 3s 2ms/step - loss: 0.2244 - accuracy: 0.9245 - val_loss: 0.2448 - val_accuracy: 0.9158\n",
      "Epoch 18/20\n",
      "1375/1375 [==============================] - 3s 2ms/step - loss: 0.2214 - accuracy: 0.9238 - val_loss: 0.2501 - val_accuracy: 0.9108\n",
      "Epoch 19/20\n",
      "1375/1375 [==============================] - 3s 2ms/step - loss: 0.2193 - accuracy: 0.9250 - val_loss: 0.2373 - val_accuracy: 0.9163\n",
      "Epoch 20/20\n",
      "1375/1375 [==============================] - 3s 2ms/step - loss: 0.2170 - accuracy: 0.9262 - val_loss: 0.2404 - val_accuracy: 0.9170\n"
     ]
    }
   ],
   "source": [
    "history = model_A.fit(X_train_A, y_train_A, epochs=20,\n",
    "                      validation_data=(X_valid_A, y_valid_A))"
   ]
  },
  {
   "cell_type": "code",
   "execution_count": 58,
   "id": "cd62e72b",
   "metadata": {
    "ExecuteTime": {
     "end_time": "2021-07-07T14:38:19.121410Z",
     "start_time": "2021-07-07T14:38:19.101733Z"
    }
   },
   "outputs": [],
   "source": [
    "model_A.save(\"my_model_A.h5\")"
   ]
  },
  {
   "cell_type": "code",
   "execution_count": 59,
   "id": "a2325bc1",
   "metadata": {
    "ExecuteTime": {
     "end_time": "2021-07-07T14:38:21.331984Z",
     "start_time": "2021-07-07T14:38:21.283967Z"
    }
   },
   "outputs": [],
   "source": [
    "model_B = keras.models.Sequential()\n",
    "model_B.add(keras.layers.Flatten(input_shape=[28, 28]))\n",
    "for n_hidden in (300, 100, 50, 50, 50):\n",
    "    model_B.add(keras.layers.Dense(n_hidden, activation=\"selu\"))\n",
    "model_B.add(keras.layers.Dense(1, activation=\"sigmoid\"))"
   ]
  },
  {
   "cell_type": "code",
   "execution_count": 60,
   "id": "554a6f8f",
   "metadata": {
    "ExecuteTime": {
     "end_time": "2021-07-07T14:38:22.593020Z",
     "start_time": "2021-07-07T14:38:22.584343Z"
    }
   },
   "outputs": [],
   "source": [
    "model_B.compile(loss=\"binary_crossentropy\",\n",
    "                optimizer=keras.optimizers.SGD(learning_rate=1e-3),\n",
    "                metrics=[\"accuracy\"])"
   ]
  },
  {
   "cell_type": "code",
   "execution_count": 61,
   "id": "ef3210c4",
   "metadata": {
    "ExecuteTime": {
     "end_time": "2021-07-07T14:38:25.623909Z",
     "start_time": "2021-07-07T14:38:23.781361Z"
    }
   },
   "outputs": [
    {
     "name": "stdout",
     "output_type": "stream",
     "text": [
      "Epoch 1/20\n",
      "7/7 [==============================] - 0s 27ms/step - loss: 0.5620 - accuracy: 0.6450 - val_loss: 0.4937 - val_accuracy: 0.7404\n",
      "Epoch 2/20\n",
      "7/7 [==============================] - 0s 12ms/step - loss: 0.4664 - accuracy: 0.7650 - val_loss: 0.4177 - val_accuracy: 0.8519\n",
      "Epoch 3/20\n",
      "7/7 [==============================] - 0s 11ms/step - loss: 0.3937 - accuracy: 0.8700 - val_loss: 0.3644 - val_accuracy: 0.9097\n",
      "Epoch 4/20\n",
      "7/7 [==============================] - 0s 11ms/step - loss: 0.3421 - accuracy: 0.9000 - val_loss: 0.3228 - val_accuracy: 0.9280\n",
      "Epoch 5/20\n",
      "7/7 [==============================] - 0s 11ms/step - loss: 0.3006 - accuracy: 0.9250 - val_loss: 0.2905 - val_accuracy: 0.9402\n",
      "Epoch 6/20\n",
      "7/7 [==============================] - 0s 11ms/step - loss: 0.2676 - accuracy: 0.9350 - val_loss: 0.2643 - val_accuracy: 0.9493\n",
      "Epoch 7/20\n",
      "7/7 [==============================] - 0s 11ms/step - loss: 0.2413 - accuracy: 0.9550 - val_loss: 0.2434 - val_accuracy: 0.9523\n",
      "Epoch 8/20\n",
      "7/7 [==============================] - 0s 10ms/step - loss: 0.2194 - accuracy: 0.9700 - val_loss: 0.2250 - val_accuracy: 0.9564\n",
      "Epoch 9/20\n",
      "7/7 [==============================] - 0s 11ms/step - loss: 0.2004 - accuracy: 0.9750 - val_loss: 0.2081 - val_accuracy: 0.9594\n",
      "Epoch 10/20\n",
      "7/7 [==============================] - 0s 11ms/step - loss: 0.1836 - accuracy: 0.9800 - val_loss: 0.1950 - val_accuracy: 0.9604\n",
      "Epoch 11/20\n",
      "7/7 [==============================] - 0s 11ms/step - loss: 0.1699 - accuracy: 0.9800 - val_loss: 0.1828 - val_accuracy: 0.9645\n",
      "Epoch 12/20\n",
      "7/7 [==============================] - 0s 11ms/step - loss: 0.1569 - accuracy: 0.9800 - val_loss: 0.1726 - val_accuracy: 0.9675\n",
      "Epoch 13/20\n",
      "7/7 [==============================] - 0s 11ms/step - loss: 0.1464 - accuracy: 0.9800 - val_loss: 0.1635 - val_accuracy: 0.9686\n",
      "Epoch 14/20\n",
      "7/7 [==============================] - 0s 11ms/step - loss: 0.1368 - accuracy: 0.9850 - val_loss: 0.1553 - val_accuracy: 0.9706\n",
      "Epoch 15/20\n",
      "7/7 [==============================] - 0s 11ms/step - loss: 0.1280 - accuracy: 0.9850 - val_loss: 0.1475 - val_accuracy: 0.9706\n",
      "Epoch 16/20\n",
      "7/7 [==============================] - 0s 11ms/step - loss: 0.1202 - accuracy: 0.9850 - val_loss: 0.1413 - val_accuracy: 0.9736\n",
      "Epoch 17/20\n",
      "7/7 [==============================] - 0s 11ms/step - loss: 0.1137 - accuracy: 0.9850 - val_loss: 0.1354 - val_accuracy: 0.9736\n",
      "Epoch 18/20\n",
      "7/7 [==============================] - 0s 11ms/step - loss: 0.1078 - accuracy: 0.9850 - val_loss: 0.1302 - val_accuracy: 0.9746\n",
      "Epoch 19/20\n",
      "7/7 [==============================] - 0s 10ms/step - loss: 0.1022 - accuracy: 0.9850 - val_loss: 0.1250 - val_accuracy: 0.9757\n",
      "Epoch 20/20\n",
      "7/7 [==============================] - 0s 11ms/step - loss: 0.0968 - accuracy: 0.9850 - val_loss: 0.1208 - val_accuracy: 0.9767\n"
     ]
    }
   ],
   "source": [
    "history = model_B.fit(X_train_B, y_train_B, epochs=20,\n",
    "                      validation_data=(X_valid_B, y_valid_B))"
   ]
  },
  {
   "cell_type": "code",
   "execution_count": 40,
   "id": "0b8af5a7",
   "metadata": {
    "ExecuteTime": {
     "end_time": "2021-07-07T14:26:26.542468Z",
     "start_time": "2021-07-07T14:26:26.529590Z"
    }
   },
   "outputs": [
    {
     "name": "stdout",
     "output_type": "stream",
     "text": [
      "Model: \"sequential_5\"\n",
      "_________________________________________________________________\n",
      "Layer (type)                 Output Shape              Param #   \n",
      "=================================================================\n",
      "flatten_5 (Flatten)          (None, 784)               0         \n",
      "_________________________________________________________________\n",
      "dense_24 (Dense)             (None, 300)               235500    \n",
      "_________________________________________________________________\n",
      "dense_25 (Dense)             (None, 100)               30100     \n",
      "_________________________________________________________________\n",
      "dense_26 (Dense)             (None, 50)                5050      \n",
      "_________________________________________________________________\n",
      "dense_27 (Dense)             (None, 50)                2550      \n",
      "_________________________________________________________________\n",
      "dense_28 (Dense)             (None, 50)                2550      \n",
      "_________________________________________________________________\n",
      "dense_29 (Dense)             (None, 1)                 51        \n",
      "=================================================================\n",
      "Total params: 275,801\n",
      "Trainable params: 275,801\n",
      "Non-trainable params: 0\n",
      "_________________________________________________________________\n"
     ]
    }
   ],
   "source": [
    "model_B.summary()"
   ]
  },
  {
   "cell_type": "code",
   "execution_count": 62,
   "id": "38d3f1a5",
   "metadata": {
    "ExecuteTime": {
     "end_time": "2021-07-07T14:38:55.047025Z",
     "start_time": "2021-07-07T14:38:54.958018Z"
    }
   },
   "outputs": [],
   "source": [
    "model_A = keras.models.load_model(\"my_model_A.h5\")\n",
    "model_B_on_A = keras.models.Sequential(model_A.layers[:-1])\n",
    "model_B_on_A.add(keras.layers.Dense(1, activation=\"sigmoid\"))"
   ]
  },
  {
   "cell_type": "code",
   "execution_count": 52,
   "id": "56029728",
   "metadata": {
    "ExecuteTime": {
     "end_time": "2021-07-07T14:36:37.492949Z",
     "start_time": "2021-07-07T14:36:37.446924Z"
    }
   },
   "outputs": [],
   "source": [
    "model_A_clone = keras.models.clone_model(model_A)\n",
    "model_A_clone.set_weights(model_A.get_weights())"
   ]
  },
  {
   "cell_type": "code",
   "execution_count": 63,
   "id": "a7e9edff",
   "metadata": {
    "ExecuteTime": {
     "end_time": "2021-07-07T14:38:59.305454Z",
     "start_time": "2021-07-07T14:38:59.296917Z"
    }
   },
   "outputs": [],
   "source": [
    "for layer in model_B_on_A.layers[:-1]:\n",
    "    layer.trainable = False\n",
    "\n",
    "model_B_on_A.compile(loss=\"binary_crossentropy\",\n",
    "                     optimizer=keras.optimizers.SGD(learning_rate=1e-3),\n",
    "                     metrics=[\"accuracy\"])"
   ]
  },
  {
   "cell_type": "code",
   "execution_count": 64,
   "id": "439d68c7",
   "metadata": {
    "ExecuteTime": {
     "end_time": "2021-07-07T14:39:02.842943Z",
     "start_time": "2021-07-07T14:39:00.632766Z"
    }
   },
   "outputs": [
    {
     "name": "stdout",
     "output_type": "stream",
     "text": [
      "Epoch 1/4\n",
      "7/7 [==============================] - 0s 25ms/step - loss: 0.1427 - accuracy: 0.9800 - val_loss: 0.1792 - val_accuracy: 0.9442\n",
      "Epoch 2/4\n",
      "7/7 [==============================] - 0s 10ms/step - loss: 0.1391 - accuracy: 0.9800 - val_loss: 0.1751 - val_accuracy: 0.9442\n",
      "Epoch 3/4\n",
      "7/7 [==============================] - 0s 10ms/step - loss: 0.1354 - accuracy: 0.9800 - val_loss: 0.1715 - val_accuracy: 0.9483\n",
      "Epoch 4/4\n",
      "7/7 [==============================] - 0s 10ms/step - loss: 0.1322 - accuracy: 0.9800 - val_loss: 0.1679 - val_accuracy: 0.9503\n",
      "Epoch 1/16\n",
      "7/7 [==============================] - 0s 27ms/step - loss: 0.1222 - accuracy: 0.9800 - val_loss: 0.1465 - val_accuracy: 0.9655\n",
      "Epoch 2/16\n",
      "7/7 [==============================] - 0s 11ms/step - loss: 0.1045 - accuracy: 0.9950 - val_loss: 0.1302 - val_accuracy: 0.9706\n",
      "Epoch 3/16\n",
      "7/7 [==============================] - 0s 11ms/step - loss: 0.0910 - accuracy: 0.9950 - val_loss: 0.1188 - val_accuracy: 0.9736\n",
      "Epoch 4/16\n",
      "7/7 [==============================] - 0s 11ms/step - loss: 0.0816 - accuracy: 0.9950 - val_loss: 0.1089 - val_accuracy: 0.9746\n",
      "Epoch 5/16\n",
      "7/7 [==============================] - 0s 11ms/step - loss: 0.0737 - accuracy: 0.9950 - val_loss: 0.1012 - val_accuracy: 0.9787\n",
      "Epoch 6/16\n",
      "7/7 [==============================] - 0s 11ms/step - loss: 0.0673 - accuracy: 0.9950 - val_loss: 0.0948 - val_accuracy: 0.9817\n",
      "Epoch 7/16\n",
      "7/7 [==============================] - 0s 11ms/step - loss: 0.0622 - accuracy: 1.0000 - val_loss: 0.0898 - val_accuracy: 0.9828\n",
      "Epoch 8/16\n",
      "7/7 [==============================] - 0s 11ms/step - loss: 0.0579 - accuracy: 1.0000 - val_loss: 0.0852 - val_accuracy: 0.9828\n",
      "Epoch 9/16\n",
      "7/7 [==============================] - 0s 11ms/step - loss: 0.0541 - accuracy: 1.0000 - val_loss: 0.0810 - val_accuracy: 0.9828\n",
      "Epoch 10/16\n",
      "7/7 [==============================] - 0s 11ms/step - loss: 0.0508 - accuracy: 1.0000 - val_loss: 0.0777 - val_accuracy: 0.9838\n",
      "Epoch 11/16\n",
      "7/7 [==============================] - 0s 11ms/step - loss: 0.0481 - accuracy: 1.0000 - val_loss: 0.0746 - val_accuracy: 0.9848\n",
      "Epoch 12/16\n",
      "7/7 [==============================] - 0s 10ms/step - loss: 0.0455 - accuracy: 1.0000 - val_loss: 0.0718 - val_accuracy: 0.9848\n",
      "Epoch 13/16\n",
      "7/7 [==============================] - 0s 10ms/step - loss: 0.0432 - accuracy: 1.0000 - val_loss: 0.0691 - val_accuracy: 0.9848\n",
      "Epoch 14/16\n",
      "7/7 [==============================] - 0s 10ms/step - loss: 0.0411 - accuracy: 1.0000 - val_loss: 0.0670 - val_accuracy: 0.9848\n",
      "Epoch 15/16\n",
      "7/7 [==============================] - 0s 10ms/step - loss: 0.0393 - accuracy: 1.0000 - val_loss: 0.0651 - val_accuracy: 0.9848\n",
      "Epoch 16/16\n",
      "7/7 [==============================] - 0s 11ms/step - loss: 0.0377 - accuracy: 1.0000 - val_loss: 0.0633 - val_accuracy: 0.9848\n"
     ]
    }
   ],
   "source": [
    "history = model_B_on_A.fit(X_train_B, y_train_B, epochs=4,\n",
    "                           validation_data=(X_valid_B, y_valid_B))\n",
    "\n",
    "for layer in model_B_on_A.layers[:-1]:\n",
    "    layer.trainable = True\n",
    "\n",
    "model_B_on_A.compile(loss=\"binary_crossentropy\",\n",
    "                     optimizer=keras.optimizers.SGD(1e-3),\n",
    "                     metrics=[\"accuracy\"])\n",
    "history = model_B_on_A.fit(X_train_B, y_train_B, epochs=16,\n",
    "                           validation_data=(X_valid_B, y_valid_B))"
   ]
  },
  {
   "cell_type": "code",
   "execution_count": 65,
   "id": "b84a5359",
   "metadata": {
    "ExecuteTime": {
     "end_time": "2021-07-07T14:39:34.723317Z",
     "start_time": "2021-07-07T14:39:34.594054Z"
    }
   },
   "outputs": [
    {
     "name": "stdout",
     "output_type": "stream",
     "text": [
      "63/63 [==============================] - 0s 1ms/step - loss: 0.1237 - accuracy: 0.9775\n"
     ]
    },
    {
     "data": {
      "text/plain": [
       "[0.12370866537094116, 0.9775000214576721]"
      ]
     },
     "execution_count": 65,
     "metadata": {},
     "output_type": "execute_result"
    }
   ],
   "source": [
    "model_B.evaluate(X_test_B, y_test_B)"
   ]
  },
  {
   "cell_type": "code",
   "execution_count": 66,
   "id": "c0f47cdd",
   "metadata": {
    "ExecuteTime": {
     "end_time": "2021-07-07T14:39:45.824852Z",
     "start_time": "2021-07-07T14:39:45.701127Z"
    }
   },
   "outputs": [
    {
     "name": "stdout",
     "output_type": "stream",
     "text": [
      "63/63 [==============================] - 0s 1ms/step - loss: 0.0512 - accuracy: 0.9985\n"
     ]
    },
    {
     "data": {
      "text/plain": [
       "[0.051222190260887146, 0.9984999895095825]"
      ]
     },
     "execution_count": 66,
     "metadata": {},
     "output_type": "execute_result"
    }
   ],
   "source": [
    "model_B_on_A.evaluate(X_test_B, y_test_B)"
   ]
  },
  {
   "cell_type": "code",
   "execution_count": 67,
   "id": "946dae8b",
   "metadata": {
    "ExecuteTime": {
     "end_time": "2021-07-07T14:40:13.853684Z",
     "start_time": "2021-07-07T14:40:13.848819Z"
    }
   },
   "outputs": [
    {
     "data": {
      "text/plain": [
       "14.999999999999432"
      ]
     },
     "execution_count": 67,
     "metadata": {},
     "output_type": "execute_result"
    }
   ],
   "source": [
    "(100 - 97.75) / (100 - 99.85)"
   ]
  },
  {
   "cell_type": "markdown",
   "id": "ba19b994",
   "metadata": {},
   "source": [
    "# Faster Optimizers"
   ]
  },
  {
   "cell_type": "markdown",
   "id": "5ed1fc5b",
   "metadata": {},
   "source": [
    "## Learning Rate Scheduling"
   ]
  },
  {
   "cell_type": "markdown",
   "id": "9b4f1110",
   "metadata": {},
   "source": [
    "### Power Scheduling"
   ]
  },
  {
   "cell_type": "code",
   "execution_count": 4,
   "id": "6d71762f",
   "metadata": {
    "ExecuteTime": {
     "end_time": "2021-07-09T10:38:48.810344Z",
     "start_time": "2021-07-09T10:38:48.806812Z"
    }
   },
   "outputs": [],
   "source": [
    "optimizer = keras.optimizers.SGD(learning_rate=0.01, decay=1e-4)"
   ]
  },
  {
   "cell_type": "code",
   "execution_count": 5,
   "id": "81e70773",
   "metadata": {
    "ExecuteTime": {
     "end_time": "2021-07-09T10:41:07.255170Z",
     "start_time": "2021-07-09T10:41:07.178624Z"
    }
   },
   "outputs": [],
   "source": [
    "model = keras.models.Sequential([\n",
    "    keras.layers.Flatten(input_shape=[28, 28]),\n",
    "    keras.layers.Dense(300, activation=\"selu\", kernel_initializer=\"lecun_normal\"),\n",
    "    keras.layers.Dense(100, activation=\"selu\", kernel_initializer=\"lecun_normal\"),\n",
    "    keras.layers.Dense(10, activation=\"softmax\")\n",
    "])\n",
    "model.compile(loss=\"sparse_categorical_crossentropy\", optimizer=optimizer, metrics=[\"accuracy\"])"
   ]
  },
  {
   "cell_type": "code",
   "execution_count": 9,
   "id": "47a94da5",
   "metadata": {
    "ExecuteTime": {
     "end_time": "2021-07-09T10:49:16.392519Z",
     "start_time": "2021-07-09T10:49:15.952022Z"
    }
   },
   "outputs": [],
   "source": [
    "(X_train_full, y_train_full), (X_test, y_test) = keras.datasets.fashion_mnist.load_data()\n",
    "X_train_full = X_train_full / 255.0\n",
    "X_test = X_test / 255.0\n",
    "X_valid, X_train = X_train_full[:5000], X_train_full[5000:]\n",
    "y_valid, y_train = y_train_full[:5000], y_train_full[5000:]"
   ]
  },
  {
   "cell_type": "code",
   "execution_count": 10,
   "id": "25ad389c",
   "metadata": {
    "ExecuteTime": {
     "end_time": "2021-07-09T10:49:17.885477Z",
     "start_time": "2021-07-09T10:49:17.387393Z"
    }
   },
   "outputs": [],
   "source": [
    "pixel_means = X_train.mean(axis=0, keepdims=True)\n",
    "pixel_stds = X_train.std(axis=0, keepdims=True)\n",
    "X_train_scaled = (X_train - pixel_means) / pixel_stds\n",
    "X_valid_scaled = (X_valid - pixel_means) / pixel_stds\n",
    "X_test_scaled = (X_test - pixel_means) / pixel_stds"
   ]
  },
  {
   "cell_type": "code",
   "execution_count": 11,
   "id": "4b2ba363",
   "metadata": {
    "ExecuteTime": {
     "end_time": "2021-07-09T10:50:44.904123Z",
     "start_time": "2021-07-09T10:49:19.213760Z"
    }
   },
   "outputs": [
    {
     "name": "stdout",
     "output_type": "stream",
     "text": [
      "Epoch 1/25\n",
      "1719/1719 [==============================] - 5s 2ms/step - loss: 0.4873 - accuracy: 0.8286 - val_loss: 0.4009 - val_accuracy: 0.8596\n",
      "Epoch 2/25\n",
      "1719/1719 [==============================] - 3s 2ms/step - loss: 0.3797 - accuracy: 0.8649 - val_loss: 0.3842 - val_accuracy: 0.8654\n",
      "Epoch 3/25\n",
      "1719/1719 [==============================] - 3s 2ms/step - loss: 0.3466 - accuracy: 0.8777 - val_loss: 0.3662 - val_accuracy: 0.8676\n",
      "Epoch 4/25\n",
      "1719/1719 [==============================] - 3s 2ms/step - loss: 0.3258 - accuracy: 0.8847 - val_loss: 0.3538 - val_accuracy: 0.8732\n",
      "Epoch 5/25\n",
      "1719/1719 [==============================] - 3s 2ms/step - loss: 0.3098 - accuracy: 0.8898 - val_loss: 0.3537 - val_accuracy: 0.8786\n",
      "Epoch 6/25\n",
      "1719/1719 [==============================] - 3s 2ms/step - loss: 0.2974 - accuracy: 0.8931 - val_loss: 0.3420 - val_accuracy: 0.8816\n",
      "Epoch 7/25\n",
      "1719/1719 [==============================] - 3s 2ms/step - loss: 0.2867 - accuracy: 0.8986 - val_loss: 0.3371 - val_accuracy: 0.8808\n",
      "Epoch 8/25\n",
      "1719/1719 [==============================] - 3s 2ms/step - loss: 0.2778 - accuracy: 0.9019 - val_loss: 0.3311 - val_accuracy: 0.8852\n",
      "Epoch 9/25\n",
      "1719/1719 [==============================] - 3s 2ms/step - loss: 0.2698 - accuracy: 0.9045 - val_loss: 0.3346 - val_accuracy: 0.8816\n",
      "Epoch 10/25\n",
      "1719/1719 [==============================] - 3s 2ms/step - loss: 0.2630 - accuracy: 0.9068 - val_loss: 0.3298 - val_accuracy: 0.8822\n",
      "Epoch 11/25\n",
      "1719/1719 [==============================] - 3s 2ms/step - loss: 0.2571 - accuracy: 0.9091 - val_loss: 0.3299 - val_accuracy: 0.8840\n",
      "Epoch 12/25\n",
      "1719/1719 [==============================] - 3s 2ms/step - loss: 0.2515 - accuracy: 0.9116 - val_loss: 0.3272 - val_accuracy: 0.8880\n",
      "Epoch 13/25\n",
      "1719/1719 [==============================] - 3s 2ms/step - loss: 0.2461 - accuracy: 0.9131 - val_loss: 0.3266 - val_accuracy: 0.8878\n",
      "Epoch 14/25\n",
      "1719/1719 [==============================] - 3s 2ms/step - loss: 0.2415 - accuracy: 0.9151 - val_loss: 0.3221 - val_accuracy: 0.8864\n",
      "Epoch 15/25\n",
      "1719/1719 [==============================] - 3s 2ms/step - loss: 0.2368 - accuracy: 0.9174 - val_loss: 0.3208 - val_accuracy: 0.8886\n",
      "Epoch 16/25\n",
      "1719/1719 [==============================] - 3s 2ms/step - loss: 0.2330 - accuracy: 0.9182 - val_loss: 0.3190 - val_accuracy: 0.8852\n",
      "Epoch 17/25\n",
      "1719/1719 [==============================] - 3s 2ms/step - loss: 0.2292 - accuracy: 0.9199 - val_loss: 0.3239 - val_accuracy: 0.8872\n",
      "Epoch 18/25\n",
      "1719/1719 [==============================] - 3s 2ms/step - loss: 0.2256 - accuracy: 0.9218 - val_loss: 0.3229 - val_accuracy: 0.8876\n",
      "Epoch 19/25\n",
      "1719/1719 [==============================] - 3s 2ms/step - loss: 0.2224 - accuracy: 0.9230 - val_loss: 0.3202 - val_accuracy: 0.8896\n",
      "Epoch 20/25\n",
      "1719/1719 [==============================] - 3s 2ms/step - loss: 0.2192 - accuracy: 0.9237 - val_loss: 0.3173 - val_accuracy: 0.8896\n",
      "Epoch 21/25\n",
      "1719/1719 [==============================] - 3s 2ms/step - loss: 0.2160 - accuracy: 0.9248 - val_loss: 0.3197 - val_accuracy: 0.8888\n",
      "Epoch 22/25\n",
      "1719/1719 [==============================] - 3s 2ms/step - loss: 0.2133 - accuracy: 0.9258 - val_loss: 0.3200 - val_accuracy: 0.8876\n",
      "Epoch 23/25\n",
      "1719/1719 [==============================] - 3s 2ms/step - loss: 0.2104 - accuracy: 0.9269 - val_loss: 0.3189 - val_accuracy: 0.8898\n",
      "Epoch 24/25\n",
      "1719/1719 [==============================] - 3s 2ms/step - loss: 0.2078 - accuracy: 0.9281 - val_loss: 0.3161 - val_accuracy: 0.8898\n",
      "Epoch 25/25\n",
      "1719/1719 [==============================] - 3s 2ms/step - loss: 0.2054 - accuracy: 0.9286 - val_loss: 0.3177 - val_accuracy: 0.8898\n"
     ]
    }
   ],
   "source": [
    "n_epochs = 25\n",
    "history = model.fit(X_train_scaled, y_train, epochs=n_epochs,\n",
    "                    validation_data=(X_valid_scaled, y_valid))"
   ]
  },
  {
   "cell_type": "code",
   "execution_count": 12,
   "id": "89445d2f",
   "metadata": {
    "ExecuteTime": {
     "end_time": "2021-07-09T10:55:45.569538Z",
     "start_time": "2021-07-09T10:55:45.433305Z"
    }
   },
   "outputs": [
    {
     "data": {
      "image/png": "[encoded data removed]",
      "text/plain": [
       "<Figure size 432x288 with 1 Axes>"
      ]
     },
     "metadata": {},
     "output_type": "display_data"
    }
   ],
   "source": [
    "import math\n",
    "\n",
    "learning_rate = 0.01\n",
    "decay = 1e-4\n",
    "batch_size = 32\n",
    "n_steps_per_epoch = math.ceil(len(X_train) / batch_size)\n",
    "epochs = np.arange(n_epochs)\n",
    "lrs = learning_rate / (1 + decay * epochs * n_steps_per_epoch)\n",
    "\n",
    "plt.plot(epochs, lrs, \"o-\")\n",
    "plt.axis([0, n_epochs - 1, 0, 0.01])\n",
    "plt.xlabel(\"Epoch\")\n",
    "plt.ylabel(\"Learning Rate\")\n",
    "plt.title(\"Power Scheduling\", fontsize=14)\n",
    "plt.grid(True)"
   ]
  },
  {
   "cell_type": "markdown",
   "id": "ad6b2f4a",
   "metadata": {},
   "source": [
    "### Exponential Scheduling"
   ]
  },
  {
   "cell_type": "code",
   "execution_count": 15,
   "id": "8b98078f",
   "metadata": {
    "ExecuteTime": {
     "end_time": "2021-07-09T11:00:43.003515Z",
     "start_time": "2021-07-09T11:00:42.999733Z"
    }
   },
   "outputs": [],
   "source": [
    "def exponential_decay(lr0, s):\n",
    "    def exponential_decay_fn(epoch):\n",
    "        return lr0 * 0.1**(epoch / s)\n",
    "    return exponential_decay_fn\n",
    "\n",
    "exponential_decay_fn = exponential_decay(lr0=0.01, s=20)"
   ]
  },
  {
   "cell_type": "code",
   "execution_count": 14,
   "id": "a8b61619",
   "metadata": {
    "ExecuteTime": {
     "end_time": "2021-07-09T11:00:11.138378Z",
     "start_time": "2021-07-09T11:00:11.105707Z"
    }
   },
   "outputs": [],
   "source": [
    "model = keras.models.Sequential([\n",
    "    keras.layers.Flatten(input_shape=[28, 28]),\n",
    "    keras.layers.Dense(300, activation=\"selu\", kernel_initializer=\"lecun_normal\"),\n",
    "    keras.layers.Dense(100, activation=\"selu\", kernel_initializer=\"lecun_normal\"),\n",
    "    keras.layers.Dense(10, activation=\"softmax\")\n",
    "])\n",
    "model.compile(loss=\"sparse_categorical_crossentropy\", optimizer=\"nadam\", metrics=[\"accuracy\"])\n",
    "n_epochs = 25"
   ]
  },
  {
   "cell_type": "code",
   "execution_count": 17,
   "id": "49cc4545",
   "metadata": {
    "ExecuteTime": {
     "end_time": "2021-07-09T11:04:39.459582Z",
     "start_time": "2021-07-09T11:01:32.620318Z"
    }
   },
   "outputs": [
    {
     "name": "stdout",
     "output_type": "stream",
     "text": [
      "Epoch 1/25\n",
      "1719/1719 [==============================] - 8s 4ms/step - loss: 0.8231 - accuracy: 0.7649 - val_loss: 0.8490 - val_accuracy: 0.7430\n",
      "Epoch 2/25\n",
      "1719/1719 [==============================] - 7s 4ms/step - loss: 0.6987 - accuracy: 0.7937 - val_loss: 1.0439 - val_accuracy: 0.7026\n",
      "Epoch 3/25\n",
      "1719/1719 [==============================] - 7s 4ms/step - loss: 0.6551 - accuracy: 0.8015 - val_loss: 0.6861 - val_accuracy: 0.8186\n",
      "Epoch 4/25\n",
      "1719/1719 [==============================] - 7s 4ms/step - loss: 0.5740 - accuracy: 0.8287 - val_loss: 0.6120 - val_accuracy: 0.8222\n",
      "Epoch 5/25\n",
      "1719/1719 [==============================] - 7s 4ms/step - loss: 0.5451 - accuracy: 0.8382 - val_loss: 0.5922 - val_accuracy: 0.8448\n",
      "Epoch 6/25\n",
      "1719/1719 [==============================] - 7s 4ms/step - loss: 0.4765 - accuracy: 0.8563 - val_loss: 0.7077 - val_accuracy: 0.8226\n",
      "Epoch 7/25\n",
      "1719/1719 [==============================] - 7s 4ms/step - loss: 0.4599 - accuracy: 0.8629 - val_loss: 0.5710 - val_accuracy: 0.8474\n",
      "Epoch 8/25\n",
      "1719/1719 [==============================] - 7s 4ms/step - loss: 0.4131 - accuracy: 0.8735 - val_loss: 0.5061 - val_accuracy: 0.8622\n",
      "Epoch 9/25\n",
      "1719/1719 [==============================] - 7s 4ms/step - loss: 0.3936 - accuracy: 0.8796 - val_loss: 0.4828 - val_accuracy: 0.8606\n",
      "Epoch 10/25\n",
      "1719/1719 [==============================] - 7s 4ms/step - loss: 0.3769 - accuracy: 0.8833 - val_loss: 0.6051 - val_accuracy: 0.8116\n",
      "Epoch 11/25\n",
      "1719/1719 [==============================] - 7s 4ms/step - loss: 0.3427 - accuracy: 0.8920 - val_loss: 0.4979 - val_accuracy: 0.8604\n",
      "Epoch 12/25\n",
      "1719/1719 [==============================] - 8s 4ms/step - loss: 0.3230 - accuracy: 0.8979 - val_loss: 0.4946 - val_accuracy: 0.8646\n",
      "Epoch 13/25\n",
      "1719/1719 [==============================] - 7s 4ms/step - loss: 0.3052 - accuracy: 0.9023 - val_loss: 0.4676 - val_accuracy: 0.8756\n",
      "Epoch 14/25\n",
      "1719/1719 [==============================] - 7s 4ms/step - loss: 0.2819 - accuracy: 0.9090 - val_loss: 0.4740 - val_accuracy: 0.8720\n",
      "Epoch 15/25\n",
      "1719/1719 [==============================] - 7s 4ms/step - loss: 0.2686 - accuracy: 0.9131 - val_loss: 0.4886 - val_accuracy: 0.8764\n",
      "Epoch 16/25\n",
      "1719/1719 [==============================] - 7s 4ms/step - loss: 0.2525 - accuracy: 0.9191 - val_loss: 0.4850 - val_accuracy: 0.8748\n",
      "Epoch 17/25\n",
      "1719/1719 [==============================] - 7s 4ms/step - loss: 0.2415 - accuracy: 0.9230 - val_loss: 0.4571 - val_accuracy: 0.8810\n",
      "Epoch 18/25\n",
      "1719/1719 [==============================] - 7s 4ms/step - loss: 0.2239 - accuracy: 0.9275 - val_loss: 0.4863 - val_accuracy: 0.8782\n",
      "Epoch 19/25\n",
      "1719/1719 [==============================] - 7s 4ms/step - loss: 0.2116 - accuracy: 0.9319 - val_loss: 0.4875 - val_accuracy: 0.8810\n",
      "Epoch 20/25\n",
      "1719/1719 [==============================] - 7s 4ms/step - loss: 0.2021 - accuracy: 0.9346 - val_loss: 0.5047 - val_accuracy: 0.8750\n",
      "Epoch 21/25\n",
      "1719/1719 [==============================] - 7s 4ms/step - loss: 0.1936 - accuracy: 0.9385 - val_loss: 0.5157 - val_accuracy: 0.8816\n",
      "Epoch 22/25\n",
      "1719/1719 [==============================] - 7s 4ms/step - loss: 0.1811 - accuracy: 0.9429 - val_loss: 0.5214 - val_accuracy: 0.8844\n",
      "Epoch 23/25\n",
      "1719/1719 [==============================] - 7s 4ms/step - loss: 0.1760 - accuracy: 0.9457 - val_loss: 0.5238 - val_accuracy: 0.8816\n",
      "Epoch 24/25\n",
      "1719/1719 [==============================] - 7s 4ms/step - loss: 0.1663 - accuracy: 0.9484 - val_loss: 0.5599 - val_accuracy: 0.8820\n",
      "Epoch 25/25\n",
      "1719/1719 [==============================] - 7s 4ms/step - loss: 0.1584 - accuracy: 0.9513 - val_loss: 0.5699 - val_accuracy: 0.8826\n"
     ]
    }
   ],
   "source": [
    "lr_scheduler = keras.callbacks.LearningRateScheduler(exponential_decay_fn)\n",
    "history = model.fit(X_train_scaled, y_train, epochs=n_epochs,\n",
    "                    validation_data=(X_valid_scaled, y_valid),\n",
    "                    callbacks=[lr_scheduler])"
   ]
  },
  {
   "cell_type": "code",
   "execution_count": 18,
   "id": "25b822f7",
   "metadata": {
    "ExecuteTime": {
     "end_time": "2021-07-09T11:08:51.778154Z",
     "start_time": "2021-07-09T11:08:51.660865Z"
    }
   },
   "outputs": [
    {
     "data": {
      "image/png": "[encoded data removed]",
      "text/plain": [
       "<Figure size 432x288 with 1 Axes>"
      ]
     },
     "metadata": {},
     "output_type": "display_data"
    }
   ],
   "source": [
    "plt.plot(history.epoch, history.history[\"lr\"], \"o-\")\n",
    "plt.axis([0, n_epochs - 1, 0, 0.011])\n",
    "plt.xlabel(\"Epoch\")\n",
    "plt.ylabel(\"Learning Rate\")\n",
    "plt.title(\"Exponential Scheduling\", fontsize=14)\n",
    "plt.grid(True)"
   ]
  },
  {
   "cell_type": "code",
   "execution_count": 20,
   "id": "5596eae7",
   "metadata": {
    "ExecuteTime": {
     "end_time": "2021-07-09T11:25:42.992095Z",
     "start_time": "2021-07-09T11:22:26.575982Z"
    }
   },
   "outputs": [
    {
     "name": "stdout",
     "output_type": "stream",
     "text": [
      "Epoch 1/25\n",
      "1719/1719 [==============================] - 8s 4ms/step - loss: 0.8437 - accuracy: 0.7603 - val_loss: 0.8378 - val_accuracy: 0.7492\n",
      "Epoch 2/25\n",
      "1719/1719 [==============================] - 8s 5ms/step - loss: 0.6845 - accuracy: 0.7878 - val_loss: 0.7087 - val_accuracy: 0.7890\n",
      "Epoch 3/25\n",
      "1719/1719 [==============================] - 8s 5ms/step - loss: 0.6024 - accuracy: 0.8141 - val_loss: 0.6273 - val_accuracy: 0.8228\n",
      "Epoch 4/25\n",
      "1719/1719 [==============================] - 8s 5ms/step - loss: 0.5342 - accuracy: 0.8387 - val_loss: 0.5892 - val_accuracy: 0.8354\n",
      "Epoch 5/25\n",
      "1719/1719 [==============================] - 8s 5ms/step - loss: 0.4806 - accuracy: 0.8533 - val_loss: 0.5759 - val_accuracy: 0.8494\n",
      "Epoch 6/25\n",
      "1719/1719 [==============================] - 8s 5ms/step - loss: 0.4428 - accuracy: 0.8631 - val_loss: 0.5271 - val_accuracy: 0.8486\n",
      "Epoch 7/25\n",
      "1719/1719 [==============================] - 8s 4ms/step - loss: 0.3966 - accuracy: 0.8740 - val_loss: 0.5047 - val_accuracy: 0.8564\n",
      "Epoch 8/25\n",
      "1719/1719 [==============================] - 8s 4ms/step - loss: 0.3720 - accuracy: 0.8810 - val_loss: 0.5202 - val_accuracy: 0.8662\n",
      "Epoch 9/25\n",
      "1719/1719 [==============================] - 8s 5ms/step - loss: 0.3586 - accuracy: 0.8883 - val_loss: 0.4249 - val_accuracy: 0.8734\n",
      "Epoch 10/25\n",
      "1719/1719 [==============================] - 8s 5ms/step - loss: 0.3171 - accuracy: 0.8948 - val_loss: 0.4520 - val_accuracy: 0.8730\n",
      "Epoch 11/25\n",
      "1719/1719 [==============================] - 8s 5ms/step - loss: 0.2925 - accuracy: 0.8997 - val_loss: 0.4247 - val_accuracy: 0.8762\n",
      "Epoch 12/25\n",
      "1719/1719 [==============================] - 8s 4ms/step - loss: 0.2720 - accuracy: 0.9071 - val_loss: 0.4525 - val_accuracy: 0.8706\n",
      "Epoch 13/25\n",
      "1719/1719 [==============================] - 8s 5ms/step - loss: 0.2561 - accuracy: 0.9118 - val_loss: 0.4605 - val_accuracy: 0.8740\n",
      "Epoch 14/25\n",
      "1719/1719 [==============================] - 8s 5ms/step - loss: 0.2352 - accuracy: 0.9182 - val_loss: 0.5316 - val_accuracy: 0.8640\n",
      "Epoch 15/25\n",
      "1719/1719 [==============================] - 8s 4ms/step - loss: 0.2182 - accuracy: 0.9223 - val_loss: 0.4296 - val_accuracy: 0.8840\n",
      "Epoch 16/25\n",
      "1719/1719 [==============================] - 8s 5ms/step - loss: 0.2040 - accuracy: 0.9277 - val_loss: 0.4331 - val_accuracy: 0.8856\n",
      "Epoch 17/25\n",
      "1719/1719 [==============================] - 8s 4ms/step - loss: 0.1882 - accuracy: 0.9341 - val_loss: 0.4619 - val_accuracy: 0.8866\n",
      "Epoch 18/25\n",
      "1719/1719 [==============================] - 8s 5ms/step - loss: 0.1730 - accuracy: 0.9388 - val_loss: 0.4536 - val_accuracy: 0.8890\n",
      "Epoch 19/25\n",
      "1719/1719 [==============================] - 8s 4ms/step - loss: 0.1596 - accuracy: 0.9439 - val_loss: 0.4839 - val_accuracy: 0.8902\n",
      "Epoch 20/25\n",
      "1719/1719 [==============================] - 8s 5ms/step - loss: 0.1490 - accuracy: 0.9483 - val_loss: 0.5031 - val_accuracy: 0.8888\n",
      "Epoch 21/25\n",
      "1719/1719 [==============================] - 8s 5ms/step - loss: 0.1419 - accuracy: 0.9513 - val_loss: 0.5141 - val_accuracy: 0.8902\n",
      "Epoch 22/25\n",
      "1719/1719 [==============================] - 8s 5ms/step - loss: 0.1296 - accuracy: 0.9549 - val_loss: 0.5565 - val_accuracy: 0.8894\n",
      "Epoch 23/25\n",
      "1719/1719 [==============================] - 8s 5ms/step - loss: 0.1175 - accuracy: 0.9589 - val_loss: 0.5608 - val_accuracy: 0.8870\n",
      "Epoch 24/25\n",
      "1719/1719 [==============================] - 8s 5ms/step - loss: 0.1105 - accuracy: 0.9626 - val_loss: 0.5952 - val_accuracy: 0.8896\n",
      "Epoch 25/25\n",
      "1719/1719 [==============================] - 8s 5ms/step - loss: 0.1026 - accuracy: 0.9663 - val_loss: 0.6224 - val_accuracy: 0.8896\n"
     ]
    }
   ],
   "source": [
    "K = keras.backend\n",
    "\n",
    "class ExponentialDecay(keras.callbacks.Callback):\n",
    "    def __init__(self, s=40000):\n",
    "        super().__init__()\n",
    "        self.s = s\n",
    "    \n",
    "    def on_batch_begin(self, batch, logs=None):\n",
    "        lr = K.get_value(self.model.optimizer.learning_rate)\n",
    "        K.set_value(self.model.optimizer.lr, lr * 0.1**(1 / s))\n",
    "    \n",
    "    def on_epoch_end(self, epoch, logs=None):\n",
    "        logs = logs or {}\n",
    "        logs[\"lr\"] = K.get_value(self.model.optimizer.learning_rate)\n",
    "\n",
    "model = keras.models.Sequential([\n",
    "    keras.layers.Flatten(input_shape=[28, 28]),\n",
    "    keras.layers.Dense(300, activation=\"selu\", kernel_initializer=\"lecun_normal\"),\n",
    "    keras.layers.Dense(100, activation=\"selu\", kernel_initializer=\"lecun_normal\"),\n",
    "    keras.layers.Dense(10, activation=\"softmax\")\n",
    "])\n",
    "lr0 = 0.01\n",
    "optimizer = keras.optimizers.Nadam(learning_rate=lr0)\n",
    "model.compile(loss=\"sparse_categorical_crossentropy\", optimizer=optimizer, metrics=[\"accuracy\"])\n",
    "n_epochs = 25\n",
    "\n",
    "s = 20 * len(X_train) // 32\n",
    "exp_decay = ExponentialDecay(s)\n",
    "history = model.fit(X_train_scaled, y_train, epochs=n_epochs,\n",
    "                    validation_data=(X_valid_scaled, y_valid),\n",
    "                    callbacks=[exp_decay])"
   ]
  },
  {
   "cell_type": "code",
   "execution_count": 21,
   "id": "3adb10ac",
   "metadata": {
    "ExecuteTime": {
     "end_time": "2021-07-09T11:26:52.781390Z",
     "start_time": "2021-07-09T11:26:52.775729Z"
    }
   },
   "outputs": [],
   "source": [
    "n_steps = n_epochs * len(X_train) // 32\n",
    "steps = np.arange(n_steps)\n",
    "lrs = lr0 * 0.1**(steps / s)"
   ]
  },
  {
   "cell_type": "code",
   "execution_count": 22,
   "id": "2db8d18c",
   "metadata": {
    "ExecuteTime": {
     "end_time": "2021-07-09T11:28:26.753927Z",
     "start_time": "2021-07-09T11:28:26.616676Z"
    }
   },
   "outputs": [
    {
     "data": {
      "image/png": "[encoded data removed]",
      "text/plain": [
       "<Figure size 432x288 with 1 Axes>"
      ]
     },
     "metadata": {},
     "output_type": "display_data"
    }
   ],
   "source": [
    "plt.plot(steps, lrs, \"-\", linewidth=2)\n",
    "plt.axis([0, n_steps - 1, 0, lr0 * 1.1])\n",
    "plt.xlabel(\"Batch\")\n",
    "plt.ylabel(\"Learning Rate\")\n",
    "plt.title(\"Exponential Scheduling (per batch)\", fontsize=14)\n",
    "plt.grid(True)"
   ]
  },
  {
   "cell_type": "markdown",
   "id": "dd313795",
   "metadata": {},
   "source": [
    "### Piecewise Constant Scheduling"
   ]
  },
  {
   "cell_type": "code",
   "execution_count": 23,
   "id": "2fbdf5de",
   "metadata": {
    "ExecuteTime": {
     "end_time": "2021-07-09T11:29:21.782070Z",
     "start_time": "2021-07-09T11:29:21.778565Z"
    }
   },
   "outputs": [],
   "source": [
    "def piecewise_constant_fn(epoch):\n",
    "    if epoch < 5:\n",
    "        return 0.01\n",
    "    elif epoch < 15:\n",
    "        return 0.005\n",
    "    else:\n",
    "        return 0.001"
   ]
  },
  {
   "cell_type": "code",
   "execution_count": 24,
   "id": "2cfb8ef1",
   "metadata": {
    "ExecuteTime": {
     "end_time": "2021-07-09T11:31:22.726595Z",
     "start_time": "2021-07-09T11:31:22.722480Z"
    }
   },
   "outputs": [],
   "source": [
    "def piecewise_constant(boundaries, values):\n",
    "    boundaries = np.array([0] + boundaries)\n",
    "    values = np.array(values)\n",
    "    def piecewise_constant_fn(epoch):\n",
    "        return values[np.argmax(boundaries > epoch) - 1]\n",
    "    return piecewise_constant_fn\n",
    "\n",
    "piecewise_constant_fn = piecewise_constant([5, 15], [0.01, 0.005, 0.001])"
   ]
  },
  {
   "cell_type": "code",
   "execution_count": 27,
   "id": "e43e5c7e",
   "metadata": {
    "ExecuteTime": {
     "end_time": "2021-07-09T11:37:43.462341Z",
     "start_time": "2021-07-09T11:34:41.207052Z"
    }
   },
   "outputs": [
    {
     "name": "stdout",
     "output_type": "stream",
     "text": [
      "Epoch 1/25\n",
      "1719/1719 [==============================] - 8s 4ms/step - loss: 0.8439 - accuracy: 0.7593 - val_loss: 0.6947 - val_accuracy: 0.7824\n",
      "Epoch 2/25\n",
      "1719/1719 [==============================] - 7s 4ms/step - loss: 0.9654 - accuracy: 0.6993 - val_loss: 0.9852 - val_accuracy: 0.6314\n",
      "Epoch 3/25\n",
      "1719/1719 [==============================] - 8s 5ms/step - loss: 1.1178 - accuracy: 0.6180 - val_loss: 1.1214 - val_accuracy: 0.6012\n",
      "Epoch 4/25\n",
      "1719/1719 [==============================] - 7s 4ms/step - loss: 1.0867 - accuracy: 0.6246 - val_loss: 1.0657 - val_accuracy: 0.6322\n",
      "Epoch 5/25\n",
      "1719/1719 [==============================] - 7s 4ms/step - loss: 1.0440 - accuracy: 0.6332 - val_loss: 1.0871 - val_accuracy: 0.6278\n",
      "Epoch 6/25\n",
      "1719/1719 [==============================] - 7s 4ms/step - loss: 0.8058 - accuracy: 0.6753 - val_loss: 0.8411 - val_accuracy: 0.6612\n",
      "Epoch 7/25\n",
      "1719/1719 [==============================] - 7s 4ms/step - loss: 0.7723 - accuracy: 0.6809 - val_loss: 0.8578 - val_accuracy: 0.6766\n",
      "Epoch 8/25\n",
      "1719/1719 [==============================] - 7s 4ms/step - loss: 0.8091 - accuracy: 0.6892 - val_loss: 0.8665 - val_accuracy: 0.6736\n",
      "Epoch 9/25\n",
      "1719/1719 [==============================] - 7s 4ms/step - loss: 0.7328 - accuracy: 0.7197 - val_loss: 0.7974 - val_accuracy: 0.7374\n",
      "Epoch 10/25\n",
      "1719/1719 [==============================] - 7s 4ms/step - loss: 0.6341 - accuracy: 0.7700 - val_loss: 0.6828 - val_accuracy: 0.7426\n",
      "Epoch 11/25\n",
      "1719/1719 [==============================] - 7s 4ms/step - loss: 0.6050 - accuracy: 0.7764 - val_loss: 0.6634 - val_accuracy: 0.8030\n",
      "Epoch 12/25\n",
      "1719/1719 [==============================] - 7s 4ms/step - loss: 0.5196 - accuracy: 0.8453 - val_loss: 0.5100 - val_accuracy: 0.8496\n",
      "Epoch 13/25\n",
      "1719/1719 [==============================] - 7s 4ms/step - loss: 0.4919 - accuracy: 0.8568 - val_loss: 0.6327 - val_accuracy: 0.8428\n",
      "Epoch 14/25\n",
      "1719/1719 [==============================] - 7s 4ms/step - loss: 0.4678 - accuracy: 0.8653 - val_loss: 0.6719 - val_accuracy: 0.8514\n",
      "Epoch 15/25\n",
      "1719/1719 [==============================] - 7s 4ms/step - loss: 0.4633 - accuracy: 0.8679 - val_loss: 0.5818 - val_accuracy: 0.8580\n",
      "Epoch 16/25\n",
      "1719/1719 [==============================] - 7s 4ms/step - loss: 0.3217 - accuracy: 0.8985 - val_loss: 0.4802 - val_accuracy: 0.8750\n",
      "Epoch 17/25\n",
      "1719/1719 [==============================] - 7s 4ms/step - loss: 0.2980 - accuracy: 0.9067 - val_loss: 0.5000 - val_accuracy: 0.8752\n",
      "Epoch 18/25\n",
      "1719/1719 [==============================] - 7s 4ms/step - loss: 0.2843 - accuracy: 0.9111 - val_loss: 0.4899 - val_accuracy: 0.8730\n",
      "Epoch 19/25\n",
      "1719/1719 [==============================] - 7s 4ms/step - loss: 0.2717 - accuracy: 0.9133 - val_loss: 0.4916 - val_accuracy: 0.8768\n",
      "Epoch 20/25\n",
      "1719/1719 [==============================] - 7s 4ms/step - loss: 0.2618 - accuracy: 0.9164 - val_loss: 0.4905 - val_accuracy: 0.8758\n",
      "Epoch 21/25\n",
      "1719/1719 [==============================] - 7s 4ms/step - loss: 0.2518 - accuracy: 0.9209 - val_loss: 0.4887 - val_accuracy: 0.8766\n",
      "Epoch 22/25\n",
      "1719/1719 [==============================] - 7s 4ms/step - loss: 0.2442 - accuracy: 0.9219 - val_loss: 0.5021 - val_accuracy: 0.8796\n",
      "Epoch 23/25\n",
      "1719/1719 [==============================] - 7s 4ms/step - loss: 0.2367 - accuracy: 0.9253 - val_loss: 0.5327 - val_accuracy: 0.8772\n",
      "Epoch 24/25\n",
      "1719/1719 [==============================] - 7s 4ms/step - loss: 0.2288 - accuracy: 0.9272 - val_loss: 0.5170 - val_accuracy: 0.8800\n",
      "Epoch 25/25\n",
      "1719/1719 [==============================] - 7s 4ms/step - loss: 0.2196 - accuracy: 0.9297 - val_loss: 0.5514 - val_accuracy: 0.8764\n"
     ]
    }
   ],
   "source": [
    "lr_scheduler = keras.callbacks.LearningRateScheduler(piecewise_constant_fn)\n",
    "\n",
    "model = keras.models.Sequential([\n",
    "    keras.layers.Flatten(input_shape=[28, 28]),\n",
    "    keras.layers.Dense(300, activation=\"selu\", kernel_initializer=\"lecun_normal\"),\n",
    "    keras.layers.Dense(100, activation=\"selu\", kernel_initializer=\"lecun_normal\"),\n",
    "    keras.layers.Dense(10, activation=\"softmax\")\n",
    "])\n",
    "model.compile(loss=\"sparse_categorical_crossentropy\", optimizer=\"nadam\", metrics=[\"accuracy\"])\n",
    "n_epochs = 25\n",
    "history = model.fit(X_train_scaled, y_train, epochs=n_epochs,\n",
    "                    validation_data=(X_valid_scaled, y_valid),\n",
    "                    callbacks=[lr_scheduler])"
   ]
  },
  {
   "cell_type": "code",
   "execution_count": 28,
   "id": "63f43af4",
   "metadata": {
    "ExecuteTime": {
     "end_time": "2021-07-09T11:45:06.546305Z",
     "start_time": "2021-07-09T11:45:06.426695Z"
    }
   },
   "outputs": [
    {
     "data": {
      "image/png": "[encoded data removed]",
      "text/plain": [
       "<Figure size 432x288 with 1 Axes>"
      ]
     },
     "metadata": {},
     "output_type": "display_data"
    }
   ],
   "source": [
    "plt.plot(history.epoch, [piecewise_constant_fn(epoch) for epoch in history.epoch], \"o-\")\n",
    "plt.axis([0, n_epochs - 1, 0, 0.011])\n",
    "plt.xlabel(\"Epoch\")\n",
    "plt.ylabel(\"Learning Rate\")\n",
    "plt.title(\"Piecewise Constant Scheduling\", fontsize=14)\n",
    "plt.grid(True)"
   ]
  },
  {
   "cell_type": "markdown",
   "id": "ce6ae01a",
   "metadata": {},
   "source": [
    "### Performance Scheduling"
   ]
  },
  {
   "cell_type": "code",
   "execution_count": 30,
   "id": "a1b1c962",
   "metadata": {
    "ExecuteTime": {
     "end_time": "2021-07-09T11:54:15.718160Z",
     "start_time": "2021-07-09T11:54:15.714747Z"
    }
   },
   "outputs": [],
   "source": [
    "tf.random.set_seed(42)\n",
    "np.random.seed(42)"
   ]
  },
  {
   "cell_type": "code",
   "execution_count": 31,
   "id": "14f025ab",
   "metadata": {
    "ExecuteTime": {
     "end_time": "2021-07-09T11:58:58.163590Z",
     "start_time": "2021-07-09T11:57:21.620765Z"
    }
   },
   "outputs": [
    {
     "name": "stdout",
     "output_type": "stream",
     "text": [
      "Epoch 1/25\n",
      "1719/1719 [==============================] - 4s 2ms/step - loss: 0.5895 - accuracy: 0.8085 - val_loss: 0.4711 - val_accuracy: 0.8564\n",
      "Epoch 2/25\n",
      "1719/1719 [==============================] - 4s 2ms/step - loss: 0.4927 - accuracy: 0.8413 - val_loss: 0.5782 - val_accuracy: 0.8434\n",
      "Epoch 3/25\n",
      "1719/1719 [==============================] - 4s 2ms/step - loss: 0.5102 - accuracy: 0.8437 - val_loss: 0.6057 - val_accuracy: 0.8310\n",
      "Epoch 4/25\n",
      "1719/1719 [==============================] - 4s 2ms/step - loss: 0.5145 - accuracy: 0.8464 - val_loss: 0.5310 - val_accuracy: 0.8510\n",
      "Epoch 5/25\n",
      "1719/1719 [==============================] - 4s 2ms/step - loss: 0.5198 - accuracy: 0.8501 - val_loss: 0.5456 - val_accuracy: 0.8248\n",
      "Epoch 6/25\n",
      "1719/1719 [==============================] - 4s 2ms/step - loss: 0.5163 - accuracy: 0.8531 - val_loss: 0.5002 - val_accuracy: 0.8546\n",
      "Epoch 7/25\n",
      "1719/1719 [==============================] - 4s 2ms/step - loss: 0.3054 - accuracy: 0.8937 - val_loss: 0.3598 - val_accuracy: 0.8832\n",
      "Epoch 8/25\n",
      "1719/1719 [==============================] - 4s 2ms/step - loss: 0.2578 - accuracy: 0.9063 - val_loss: 0.3834 - val_accuracy: 0.8768\n",
      "Epoch 9/25\n",
      "1719/1719 [==============================] - 4s 2ms/step - loss: 0.2346 - accuracy: 0.9140 - val_loss: 0.4113 - val_accuracy: 0.8868\n",
      "Epoch 10/25\n",
      "1719/1719 [==============================] - 4s 2ms/step - loss: 0.2244 - accuracy: 0.9175 - val_loss: 0.3960 - val_accuracy: 0.8906\n",
      "Epoch 11/25\n",
      "1719/1719 [==============================] - 4s 2ms/step - loss: 0.2085 - accuracy: 0.9237 - val_loss: 0.3904 - val_accuracy: 0.8896\n",
      "Epoch 12/25\n",
      "1719/1719 [==============================] - 4s 2ms/step - loss: 0.2008 - accuracy: 0.9251 - val_loss: 0.4620 - val_accuracy: 0.8758\n",
      "Epoch 13/25\n",
      "1719/1719 [==============================] - 4s 2ms/step - loss: 0.1398 - accuracy: 0.9447 - val_loss: 0.3734 - val_accuracy: 0.8962\n",
      "Epoch 14/25\n",
      "1719/1719 [==============================] - 4s 2ms/step - loss: 0.1225 - accuracy: 0.9531 - val_loss: 0.3996 - val_accuracy: 0.8942\n",
      "Epoch 15/25\n",
      "1719/1719 [==============================] - 4s 2ms/step - loss: 0.1158 - accuracy: 0.9549 - val_loss: 0.4109 - val_accuracy: 0.8900\n",
      "Epoch 16/25\n",
      "1719/1719 [==============================] - 4s 2ms/step - loss: 0.1083 - accuracy: 0.9578 - val_loss: 0.4222 - val_accuracy: 0.8962\n",
      "Epoch 17/25\n",
      "1719/1719 [==============================] - 4s 2ms/step - loss: 0.1012 - accuracy: 0.9611 - val_loss: 0.4536 - val_accuracy: 0.8896\n",
      "Epoch 18/25\n",
      "1719/1719 [==============================] - 4s 2ms/step - loss: 0.0780 - accuracy: 0.9710 - val_loss: 0.4384 - val_accuracy: 0.8976\n",
      "Epoch 19/25\n",
      "1719/1719 [==============================] - 4s 2ms/step - loss: 0.0722 - accuracy: 0.9732 - val_loss: 0.4538 - val_accuracy: 0.8950\n",
      "Epoch 20/25\n",
      "1719/1719 [==============================] - 4s 2ms/step - loss: 0.0675 - accuracy: 0.9756 - val_loss: 0.4603 - val_accuracy: 0.8944\n",
      "Epoch 21/25\n",
      "1719/1719 [==============================] - 4s 2ms/step - loss: 0.0635 - accuracy: 0.9771 - val_loss: 0.4777 - val_accuracy: 0.8956\n",
      "Epoch 22/25\n",
      "1719/1719 [==============================] - 4s 2ms/step - loss: 0.0606 - accuracy: 0.9780 - val_loss: 0.4882 - val_accuracy: 0.8956\n",
      "Epoch 23/25\n",
      "1719/1719 [==============================] - 4s 2ms/step - loss: 0.0514 - accuracy: 0.9826 - val_loss: 0.4824 - val_accuracy: 0.8968\n",
      "Epoch 24/25\n",
      "1719/1719 [==============================] - 4s 2ms/step - loss: 0.0486 - accuracy: 0.9841 - val_loss: 0.4947 - val_accuracy: 0.8974\n",
      "Epoch 25/25\n",
      "1719/1719 [==============================] - 4s 2ms/step - loss: 0.0468 - accuracy: 0.9849 - val_loss: 0.5026 - val_accuracy: 0.8948\n"
     ]
    }
   ],
   "source": [
    "lr_scheduler = keras.callbacks.ReduceLROnPlateau(factor=0.5, patience=5)\n",
    "\n",
    "model = keras.models.Sequential([\n",
    "    keras.layers.Flatten(input_shape=[28, 28]),\n",
    "    keras.layers.Dense(300, activation=\"selu\", kernel_initializer=\"lecun_normal\"),\n",
    "    keras.layers.Dense(100, activation=\"selu\", kernel_initializer=\"lecun_normal\"),\n",
    "    keras.layers.Dense(10, activation=\"softmax\")\n",
    "])\n",
    "optimizer = keras.optimizers.SGD(learning_rate=0.02, momentum=0.9)\n",
    "model.compile(loss=\"sparse_categorical_crossentropy\", optimizer=optimizer, metrics=[\"accuracy\"])\n",
    "n_epochs = 25\n",
    "history = model.fit(X_train_scaled, y_train, epochs=n_epochs,\n",
    "                    validation_data=(X_valid_scaled, y_valid),\n",
    "                    callbacks=[lr_scheduler])"
   ]
  },
  {
   "cell_type": "code",
   "execution_count": 32,
   "id": "8bd4e397",
   "metadata": {
    "ExecuteTime": {
     "end_time": "2021-07-09T12:01:05.437854Z",
     "start_time": "2021-07-09T12:01:05.241250Z"
    }
   },
   "outputs": [
    {
     "data": {
      "text/plain": [
       "Text(0.5, 1.0, 'Reduce LR on Plateau')"
      ]
     },
     "execution_count": 32,
     "metadata": {},
     "output_type": "execute_result"
    },
    {
     "data": {
      "image/png": "[encoded data removed]",
      "text/plain": [
       "<Figure size 432x288 with 2 Axes>"
      ]
     },
     "metadata": {},
     "output_type": "display_data"
    }
   ],
   "source": [
    "plt.plot(history.epoch, history.history[\"lr\"], \"bo-\")\n",
    "plt.xlabel(\"Epoch\")\n",
    "plt.ylabel(\"Learning Rate\", color=\"b\")\n",
    "plt.tick_params(\"y\", colors=\"b\")\n",
    "plt.gca().set_xlim(0, n_epochs - 1)\n",
    "plt.grid(True)\n",
    "\n",
    "ax2 = plt.gca().twinx()\n",
    "ax2.plot(history.epoch, history.history[\"val_loss\"], \"r^-\")\n",
    "ax2.set_ylabel(\"Validation Loss\", color=\"r\")\n",
    "ax2.tick_params(\"y\", colors=\"r\")\n",
    "\n",
    "plt.title(\"Reduce LR on Plateau\", fontsize=14)"
   ]
  },
  {
   "cell_type": "markdown",
   "id": "10e17d2c",
   "metadata": {},
   "source": [
    "### tf.keras schedulers"
   ]
  },
  {
   "cell_type": "code",
   "execution_count": 33,
   "id": "b21c2482",
   "metadata": {
    "ExecuteTime": {
     "end_time": "2021-07-09T12:11:44.694659Z",
     "start_time": "2021-07-09T12:10:22.090711Z"
    }
   },
   "outputs": [
    {
     "name": "stdout",
     "output_type": "stream",
     "text": [
      "Epoch 1/25\n",
      "1719/1719 [==============================] - 4s 2ms/step - loss: 0.4894 - accuracy: 0.8274 - val_loss: 0.4094 - val_accuracy: 0.8606\n",
      "Epoch 2/25\n",
      "1719/1719 [==============================] - 3s 2ms/step - loss: 0.3815 - accuracy: 0.8649 - val_loss: 0.3725 - val_accuracy: 0.8704\n",
      "Epoch 3/25\n",
      "1719/1719 [==============================] - 3s 2ms/step - loss: 0.3468 - accuracy: 0.8763 - val_loss: 0.3766 - val_accuracy: 0.8682\n",
      "Epoch 4/25\n",
      "1719/1719 [==============================] - 3s 2ms/step - loss: 0.3229 - accuracy: 0.8840 - val_loss: 0.3450 - val_accuracy: 0.8806\n",
      "Epoch 5/25\n",
      "1719/1719 [==============================] - 3s 2ms/step - loss: 0.3054 - accuracy: 0.8901 - val_loss: 0.3386 - val_accuracy: 0.8792\n",
      "Epoch 6/25\n",
      "1719/1719 [==============================] - 3s 2ms/step - loss: 0.2879 - accuracy: 0.8966 - val_loss: 0.3408 - val_accuracy: 0.8812\n",
      "Epoch 7/25\n",
      "1719/1719 [==============================] - 3s 2ms/step - loss: 0.2753 - accuracy: 0.9004 - val_loss: 0.3357 - val_accuracy: 0.8824\n",
      "Epoch 8/25\n",
      "1719/1719 [==============================] - 3s 2ms/step - loss: 0.2628 - accuracy: 0.9050 - val_loss: 0.3469 - val_accuracy: 0.8764\n",
      "Epoch 9/25\n",
      "1719/1719 [==============================] - 3s 2ms/step - loss: 0.2516 - accuracy: 0.9095 - val_loss: 0.3198 - val_accuracy: 0.8878\n",
      "Epoch 10/25\n",
      "1719/1719 [==============================] - 3s 2ms/step - loss: 0.2421 - accuracy: 0.9114 - val_loss: 0.3178 - val_accuracy: 0.8880\n",
      "Epoch 11/25\n",
      "1719/1719 [==============================] - 3s 2ms/step - loss: 0.2339 - accuracy: 0.9149 - val_loss: 0.3209 - val_accuracy: 0.8836\n",
      "Epoch 12/25\n",
      "1719/1719 [==============================] - 3s 2ms/step - loss: 0.2241 - accuracy: 0.9195 - val_loss: 0.3371 - val_accuracy: 0.8794\n",
      "Epoch 13/25\n",
      "1719/1719 [==============================] - 3s 2ms/step - loss: 0.2160 - accuracy: 0.9208 - val_loss: 0.3286 - val_accuracy: 0.8852\n",
      "Epoch 14/25\n",
      "1719/1719 [==============================] - 3s 2ms/step - loss: 0.2099 - accuracy: 0.9239 - val_loss: 0.3350 - val_accuracy: 0.8836\n",
      "Epoch 15/25\n",
      "1719/1719 [==============================] - 3s 2ms/step - loss: 0.2012 - accuracy: 0.9284 - val_loss: 0.3274 - val_accuracy: 0.8852\n",
      "Epoch 16/25\n",
      "1719/1719 [==============================] - 3s 2ms/step - loss: 0.1962 - accuracy: 0.9296 - val_loss: 0.3208 - val_accuracy: 0.8872\n",
      "Epoch 17/25\n",
      "1719/1719 [==============================] - 3s 2ms/step - loss: 0.1894 - accuracy: 0.9325 - val_loss: 0.3418 - val_accuracy: 0.8864\n",
      "Epoch 18/25\n",
      "1719/1719 [==============================] - 3s 2ms/step - loss: 0.1825 - accuracy: 0.9342 - val_loss: 0.3323 - val_accuracy: 0.8900\n",
      "Epoch 19/25\n",
      "1719/1719 [==============================] - 3s 2ms/step - loss: 0.1769 - accuracy: 0.9370 - val_loss: 0.3394 - val_accuracy: 0.8852\n",
      "Epoch 20/25\n",
      "1719/1719 [==============================] - 3s 2ms/step - loss: 0.1709 - accuracy: 0.9388 - val_loss: 0.3433 - val_accuracy: 0.8838\n",
      "Epoch 21/25\n",
      "1719/1719 [==============================] - 3s 2ms/step - loss: 0.1648 - accuracy: 0.9418 - val_loss: 0.3388 - val_accuracy: 0.8864\n",
      "Epoch 22/25\n",
      "1719/1719 [==============================] - 3s 2ms/step - loss: 0.1600 - accuracy: 0.9425 - val_loss: 0.3312 - val_accuracy: 0.8912\n",
      "Epoch 23/25\n",
      "1719/1719 [==============================] - 3s 2ms/step - loss: 0.1549 - accuracy: 0.9447 - val_loss: 0.3398 - val_accuracy: 0.8900\n",
      "Epoch 24/25\n",
      "1719/1719 [==============================] - 3s 2ms/step - loss: 0.1494 - accuracy: 0.9475 - val_loss: 0.3469 - val_accuracy: 0.8904\n",
      "Epoch 25/25\n",
      "1719/1719 [==============================] - 3s 2ms/step - loss: 0.1447 - accuracy: 0.9485 - val_loss: 0.3451 - val_accuracy: 0.8904\n"
     ]
    }
   ],
   "source": [
    "model = keras.models.Sequential([\n",
    "    keras.layers.Flatten(input_shape=[28, 28]),\n",
    "    keras.layers.Dense(300, activation=\"selu\", kernel_initializer=\"lecun_normal\"),\n",
    "    keras.layers.Dense(100, activation=\"selu\", kernel_initializer=\"lecun_normal\"),\n",
    "    keras.layers.Dense(10, activation=\"softmax\")\n",
    "])\n",
    "s = 20 * len(X_train_scaled)\n",
    "learning_rate = keras.optimizers.schedules.ExponentialDecay(0.01, s, 0.1)\n",
    "optimizer = keras.optimizers.SGD(learning_rate)\n",
    "model.compile(loss=\"sparse_categorical_crossentropy\", optimizer=optimizer, metrics=[\"accuracy\"])\n",
    "n_epochs = 25\n",
    "history = model.fit(X_train_scaled, y_train, epochs=n_epochs,\n",
    "                    validation_data=(X_valid_scaled, y_valid))"
   ]
  },
  {
   "cell_type": "markdown",
   "id": "81b0a749",
   "metadata": {},
   "source": [
    "### 1Cycle scheduling"
   ]
  },
  {
   "cell_type": "code",
   "execution_count": 34,
   "id": "0a92b357",
   "metadata": {
    "ExecuteTime": {
     "end_time": "2021-07-09T12:23:19.935465Z",
     "start_time": "2021-07-09T12:23:19.929893Z"
    }
   },
   "outputs": [],
   "source": [
    "class ExponentialLearningRate(keras.callbacks.Callback):\n",
    "    def __init__(self, factor):\n",
    "        self.factor = factor\n",
    "        self.rates = []\n",
    "        self.losses = []\n",
    "    \n",
    "    def on_epoch_begin(self, epoch, logs=None):\n",
    "        self.prev_loss = 0\n",
    "        \n",
    "    def on_batch_end(self, batch, logs=None):\n",
    "        batch_loss = logs[\"loss\"] * (batch + 1) - self.prev_loss * batch\n",
    "        self.prev_loss = logs[\"loss\"]\n",
    "        self.rates.append(K.get_value(self.model.optimizer.learning_rate))\n",
    "        self.losses.append(batch_loss)\n",
    "        K.set_value(self.model.optimizer.learning_rate, self.model.optimizer.learning_rate * self.factor)"
   ]
  },
  {
   "cell_type": "code",
   "execution_count": 35,
   "id": "a6a28840",
   "metadata": {
    "ExecuteTime": {
     "end_time": "2021-07-09T12:33:31.452563Z",
     "start_time": "2021-07-09T12:33:31.447408Z"
    }
   },
   "outputs": [],
   "source": [
    "def find_learning_rate(model, X, y, epochs=1, batch_size=32, min_rate=10**-5, max_rate=10):\n",
    "    init_weights = model.get_weights()\n",
    "    iterations = math.ceil(len(X) / batch_size) * epochs\n",
    "    factor = np.exp(np.log(max_rate / min_rate) / iterations)\n",
    "    init_lr = K.get_value(model.optimizer.learning_rate)\n",
    "    K.set_value(model.optimizer.learning_rate, min_rate)\n",
    "    exp_lr = ExponentialLearningRate(factor)\n",
    "    history = model.fit(X, y, epochs=epochs, batch_size=batch_size, callbacks=[exp_lr])\n",
    "    K.set_value(model.optimizer.learning_rate, init_lr)\n",
    "    model.set_weights(init_weights)\n",
    "    return exp_lr.rates, exp_lr.losses"
   ]
  },
  {
   "cell_type": "code",
   "execution_count": 39,
   "id": "c520026f",
   "metadata": {
    "ExecuteTime": {
     "end_time": "2021-07-09T12:39:35.879646Z",
     "start_time": "2021-07-09T12:39:35.875246Z"
    }
   },
   "outputs": [],
   "source": [
    "def plot_lr_vs_loss(rates, losses):\n",
    "    plt.plot(rates, losses)\n",
    "    plt.gca().set_xscale(\"log\")\n",
    "    plt.hlines(min(losses), min(rates), max(rates))\n",
    "    plt.axis([min(rates), max(rates), min(losses), (losses[0] + min(losses)) / 2])\n",
    "    plt.xlabel(\"Learning Rate\")\n",
    "    plt.ylabel(\"Loss\")"
   ]
  },
  {
   "cell_type": "code",
   "execution_count": 40,
   "id": "d5111b38",
   "metadata": {
    "ExecuteTime": {
     "end_time": "2021-07-09T12:39:37.366718Z",
     "start_time": "2021-07-09T12:39:37.332018Z"
    }
   },
   "outputs": [],
   "source": [
    "tf.random.set_seed(42)\n",
    "np.random.seed(42)\n",
    "\n",
    "model = keras.models.Sequential([\n",
    "    keras.layers.Flatten(input_shape=[28, 28]),\n",
    "    keras.layers.Dense(300, activation=\"selu\", kernel_initializer=\"lecun_normal\"),\n",
    "    keras.layers.Dense(100, activation=\"selu\", kernel_initializer=\"lecun_normal\"),\n",
    "    keras.layers.Dense(10, activation=\"softmax\")\n",
    "])\n",
    "model.compile(loss=\"sparse_categorical_crossentropy\",\n",
    "              optimizer=keras.optimizers.SGD(learning_rate=1e-3),\n",
    "              metrics=[\"accuracy\"])"
   ]
  },
  {
   "cell_type": "code",
   "execution_count": 41,
   "id": "78ebc6b9",
   "metadata": {
    "ExecuteTime": {
     "end_time": "2021-07-09T12:39:40.324353Z",
     "start_time": "2021-07-09T12:39:38.016570Z"
    }
   },
   "outputs": [
    {
     "name": "stdout",
     "output_type": "stream",
     "text": [
      "430/430 [==============================] - 2s 4ms/step - loss: 2535943307264000.0000 - accuracy: 0.3855\n"
     ]
    },
    {
     "data": {
      "image/png": "[encoded data removed]",
      "text/plain": [
       "<Figure size 432x288 with 1 Axes>"
      ]
     },
     "metadata": {},
     "output_type": "display_data"
    }
   ],
   "source": [
    "batch_size = 128\n",
    "rates , losses = find_learning_rate(model, X_train_scaled, y_train, epochs=1, batch_size=batch_size)\n",
    "plot_lr_vs_loss(rates, losses)"
   ]
  },
  {
   "cell_type": "code",
   "execution_count": 45,
   "id": "2d683557",
   "metadata": {
    "ExecuteTime": {
     "end_time": "2021-07-09T12:58:22.971583Z",
     "start_time": "2021-07-09T12:58:22.964747Z"
    }
   },
   "outputs": [],
   "source": [
    "class OneCycleScheduler(keras.callbacks.Callback):\n",
    "    def __init__(self, iterations, max_rate, start_rate=None,\n",
    "                 last_iterations=None, last_rate=None):\n",
    "        self.iterations = iterations\n",
    "        self.max_rate = max_rate\n",
    "        self.start_rate = start_rate or max_rate / 10\n",
    "        self.last_iterations = last_iterations or iterations // 10 + 1\n",
    "        self.half_iteration = (iterations - self.last_iterations) // 2\n",
    "        self.last_rate = last_rate or self.start_rate / 1000\n",
    "        self.iteration = 0\n",
    "    \n",
    "    def _interpolate(self, iter1, iter2, rate1, rate2):\n",
    "        return ((rate2 - rate1) * (self.iteration - iter1) / (iter2 - iter1) + rate1)\n",
    "    \n",
    "    def on_batch_begin(self, batch, logs):\n",
    "        if self.iteration < self.half_iteration:\n",
    "            rate = self._interpolate(0, self.half_iteration, self.start_rate, self.max_rate)\n",
    "        elif self.iteration < 2 * self.half_iteration:\n",
    "            rate = self._interpolate(self.half_iteration, 2 * self.half_iteration, self.max_rate, self.start_rate)\n",
    "        else:\n",
    "            rate = self._interpolate(2 * self.half_iteration, self.iterations, self.start_rate, self.last_rate)\n",
    "        \n",
    "        self.iteration += 1\n",
    "        K.set_value(self.model.optimizer.learning_rate, rate)\n",
    "        "
   ]
  },
  {
   "cell_type": "code",
   "execution_count": 46,
   "id": "0d095d3f",
   "metadata": {
    "ExecuteTime": {
     "end_time": "2021-07-09T12:59:01.626215Z",
     "start_time": "2021-07-09T12:58:23.589403Z"
    }
   },
   "outputs": [
    {
     "name": "stdout",
     "output_type": "stream",
     "text": [
      "Epoch 1/25\n",
      "430/430 [==============================] - 2s 4ms/step - loss: 0.6572 - accuracy: 0.7740 - val_loss: 0.4872 - val_accuracy: 0.8336\n",
      "Epoch 2/25\n",
      "430/430 [==============================] - 2s 4ms/step - loss: 0.4581 - accuracy: 0.8395 - val_loss: 0.4275 - val_accuracy: 0.8522\n",
      "Epoch 3/25\n",
      "430/430 [==============================] - 1s 3ms/step - loss: 0.4122 - accuracy: 0.8547 - val_loss: 0.4115 - val_accuracy: 0.8582\n",
      "Epoch 4/25\n",
      "430/430 [==============================] - 1s 3ms/step - loss: 0.3837 - accuracy: 0.8641 - val_loss: 0.3869 - val_accuracy: 0.8686\n",
      "Epoch 5/25\n",
      "430/430 [==============================] - 2s 4ms/step - loss: 0.3639 - accuracy: 0.8717 - val_loss: 0.3765 - val_accuracy: 0.8680\n",
      "Epoch 6/25\n",
      "430/430 [==============================] - 1s 3ms/step - loss: 0.3457 - accuracy: 0.8772 - val_loss: 0.3744 - val_accuracy: 0.8708\n",
      "Epoch 7/25\n",
      "430/430 [==============================] - 1s 3ms/step - loss: 0.3329 - accuracy: 0.8810 - val_loss: 0.3633 - val_accuracy: 0.8714\n",
      "Epoch 8/25\n",
      "430/430 [==============================] - 1s 3ms/step - loss: 0.3184 - accuracy: 0.8858 - val_loss: 0.3958 - val_accuracy: 0.8606\n",
      "Epoch 9/25\n",
      "430/430 [==============================] - 1s 3ms/step - loss: 0.3065 - accuracy: 0.8891 - val_loss: 0.3487 - val_accuracy: 0.8762\n",
      "Epoch 10/25\n",
      "430/430 [==============================] - 1s 3ms/step - loss: 0.2944 - accuracy: 0.8925 - val_loss: 0.3401 - val_accuracy: 0.8794\n",
      "Epoch 11/25\n",
      "430/430 [==============================] - 2s 4ms/step - loss: 0.2840 - accuracy: 0.8963 - val_loss: 0.3464 - val_accuracy: 0.8806\n",
      "Epoch 12/25\n",
      "430/430 [==============================] - 1s 3ms/step - loss: 0.2709 - accuracy: 0.9026 - val_loss: 0.3655 - val_accuracy: 0.8686\n",
      "Epoch 13/25\n",
      "430/430 [==============================] - 2s 4ms/step - loss: 0.2538 - accuracy: 0.9083 - val_loss: 0.3355 - val_accuracy: 0.8848\n",
      "Epoch 14/25\n",
      "430/430 [==============================] - 1s 3ms/step - loss: 0.2405 - accuracy: 0.9136 - val_loss: 0.3467 - val_accuracy: 0.8806\n",
      "Epoch 15/25\n",
      "430/430 [==============================] - 1s 3ms/step - loss: 0.2281 - accuracy: 0.9180 - val_loss: 0.3258 - val_accuracy: 0.8836\n",
      "Epoch 16/25\n",
      "430/430 [==============================] - 2s 3ms/step - loss: 0.2160 - accuracy: 0.9232 - val_loss: 0.3288 - val_accuracy: 0.8834\n",
      "Epoch 17/25\n",
      "430/430 [==============================] - 2s 4ms/step - loss: 0.2063 - accuracy: 0.9264 - val_loss: 0.3343 - val_accuracy: 0.8864\n",
      "Epoch 18/25\n",
      "430/430 [==============================] - 1s 3ms/step - loss: 0.1979 - accuracy: 0.9301 - val_loss: 0.3243 - val_accuracy: 0.8906\n",
      "Epoch 19/25\n",
      "430/430 [==============================] - 1s 3ms/step - loss: 0.1893 - accuracy: 0.9341 - val_loss: 0.3234 - val_accuracy: 0.8904\n",
      "Epoch 20/25\n",
      "430/430 [==============================] - 2s 4ms/step - loss: 0.1821 - accuracy: 0.9370 - val_loss: 0.3228 - val_accuracy: 0.8912\n",
      "Epoch 21/25\n",
      "430/430 [==============================] - 2s 4ms/step - loss: 0.1753 - accuracy: 0.9401 - val_loss: 0.3223 - val_accuracy: 0.8902\n",
      "Epoch 22/25\n",
      "430/430 [==============================] - 2s 4ms/step - loss: 0.1701 - accuracy: 0.9419 - val_loss: 0.3184 - val_accuracy: 0.8946\n",
      "Epoch 23/25\n",
      "430/430 [==============================] - 2s 4ms/step - loss: 0.1655 - accuracy: 0.9437 - val_loss: 0.3189 - val_accuracy: 0.8942\n",
      "Epoch 24/25\n",
      "430/430 [==============================] - 2s 4ms/step - loss: 0.1626 - accuracy: 0.9454 - val_loss: 0.3181 - val_accuracy: 0.8932\n",
      "Epoch 25/25\n",
      "430/430 [==============================] - 2s 4ms/step - loss: 0.1609 - accuracy: 0.9464 - val_loss: 0.3174 - val_accuracy: 0.8938\n"
     ]
    }
   ],
   "source": [
    "n_epochs = 25\n",
    "onecycle = OneCycleScheduler(math.ceil(len(X_train_scaled) / batch_size) * n_epochs, max_rate=0.05)\n",
    "history = model.fit(X_train_scaled, y_train, epochs=n_epochs, batch_size=batch_size,\n",
    "                    validation_data=(X_valid_scaled, y_valid), callbacks=[onecycle])"
   ]
  },
  {
   "cell_type": "markdown",
   "id": "ae00501e",
   "metadata": {},
   "source": [
    "# Avoiding Overfitting Through Regularization"
   ]
  },
  {
   "cell_type": "markdown",
   "id": "d4c6bd2a",
   "metadata": {},
   "source": [
    "## $l_1$ and $l_2$ Regularization"
   ]
  },
  {
   "cell_type": "code",
   "execution_count": 47,
   "id": "4e63bf71",
   "metadata": {
    "ExecuteTime": {
     "end_time": "2021-07-09T14:44:39.674385Z",
     "start_time": "2021-07-09T14:44:22.327732Z"
    }
   },
   "outputs": [
    {
     "name": "stdout",
     "output_type": "stream",
     "text": [
      "Epoch 1/2\n",
      "1719/1719 [==============================] - 9s 5ms/step - loss: 1.6223 - accuracy: 0.8109 - val_loss: 0.7201 - val_accuracy: 0.8306\n",
      "Epoch 2/2\n",
      "1719/1719 [==============================] - 8s 5ms/step - loss: 0.7204 - accuracy: 0.8269 - val_loss: 0.6843 - val_accuracy: 0.8368\n"
     ]
    }
   ],
   "source": [
    "from functools import partial\n",
    "\n",
    "RegularizedDense = partial(keras.layers.Dense,\n",
    "                           activation=\"elu\",\n",
    "                           kernel_initializer=\"he_normal\",\n",
    "                           kernel_regularizer=keras.regularizers.l2(0.01))\n",
    "\n",
    "model = keras.models.Sequential([\n",
    "    keras.layers.Flatten(input_shape=[28, 28]),\n",
    "    RegularizedDense(300),\n",
    "    RegularizedDense(100),\n",
    "    RegularizedDense(10, activation=\"softmax\")\n",
    "])\n",
    "model.compile(loss=\"sparse_categorical_crossentropy\", optimizer=\"nadam\", metrics=[\"accuracy\"])\n",
    "n_epochs = 2\n",
    "history = model.fit(X_train_scaled, y_train, epochs=n_epochs,\n",
    "                    validation_data=(X_valid_scaled, y_valid))"
   ]
  },
  {
   "cell_type": "markdown",
   "id": "99b3c512",
   "metadata": {},
   "source": [
    "## Dropout"
   ]
  },
  {
   "cell_type": "code",
   "execution_count": 48,
   "id": "951607bd",
   "metadata": {
    "ExecuteTime": {
     "end_time": "2021-07-09T15:05:20.775662Z",
     "start_time": "2021-07-09T15:05:04.078739Z"
    }
   },
   "outputs": [
    {
     "name": "stdout",
     "output_type": "stream",
     "text": [
      "Epoch 1/2\n",
      "1719/1719 [==============================] - 8s 5ms/step - loss: 0.5597 - accuracy: 0.8059 - val_loss: 0.3672 - val_accuracy: 0.8652\n",
      "Epoch 2/2\n",
      "1719/1719 [==============================] - 8s 5ms/step - loss: 0.4229 - accuracy: 0.8452 - val_loss: 0.3459 - val_accuracy: 0.8702\n"
     ]
    }
   ],
   "source": [
    "model = keras.models.Sequential([\n",
    "    keras.layers.Flatten(input_shape=[28, 28]),\n",
    "    keras.layers.Dropout(rate=0.2),\n",
    "    keras.layers.Dense(300, activation=\"elu\", kernel_initializer=\"he_normal\"),\n",
    "    keras.layers.Dropout(rate=0.2),\n",
    "    keras.layers.Dense(100, activation=\"elu\", kernel_initializer=\"he_normal\"),\n",
    "    keras.layers.Dropout(rate=0.2),\n",
    "    keras.layers.Dense(10, activation=\"softmax\")\n",
    "])\n",
    "model.compile(loss=\"sparse_categorical_crossentropy\", optimizer=\"nadam\", metrics=[\"accuracy\"])\n",
    "n_epochs = 2\n",
    "history = model.fit(X_train_scaled, y_train, epochs=n_epochs,\n",
    "                    validation_data=(X_valid_scaled, y_valid))"
   ]
  },
  {
   "cell_type": "markdown",
   "id": "b57989ad",
   "metadata": {},
   "source": [
    "## MC Dropout"
   ]
  },
  {
   "cell_type": "code",
   "execution_count": 49,
   "id": "3703a4cc",
   "metadata": {
    "ExecuteTime": {
     "end_time": "2021-07-09T15:12:09.356834Z",
     "start_time": "2021-07-09T15:12:09.347554Z"
    }
   },
   "outputs": [],
   "source": [
    "tf.random.set_seed(42)\n",
    "np.random.seed(42)"
   ]
  },
  {
   "cell_type": "code",
   "execution_count": 50,
   "id": "d09f0823",
   "metadata": {
    "ExecuteTime": {
     "end_time": "2021-07-09T15:13:21.863449Z",
     "start_time": "2021-07-09T15:13:10.261207Z"
    }
   },
   "outputs": [],
   "source": [
    "y_probas = np.stack([model(X_test_scaled, training=True) for _ in range(100)])\n",
    "y_proba = y_probas.mean(axis=0)\n",
    "y_std = y_probas.std(axis=0)"
   ]
  },
  {
   "cell_type": "code",
   "execution_count": 51,
   "id": "a9ff54f3",
   "metadata": {
    "ExecuteTime": {
     "end_time": "2021-07-09T15:14:12.855910Z",
     "start_time": "2021-07-09T15:14:12.771386Z"
    }
   },
   "outputs": [
    {
     "data": {
      "text/plain": [
       "array([[0.  , 0.  , 0.  , 0.  , 0.  , 0.01, 0.  , 0.08, 0.  , 0.91]],\n",
       "      dtype=float32)"
      ]
     },
     "execution_count": 51,
     "metadata": {},
     "output_type": "execute_result"
    }
   ],
   "source": [
    "np.round(model.predict(X_test_scaled[:1]), 2)"
   ]
  },
  {
   "cell_type": "code",
   "execution_count": 52,
   "id": "b493c01d",
   "metadata": {
    "ExecuteTime": {
     "end_time": "2021-07-09T15:16:51.612903Z",
     "start_time": "2021-07-09T15:16:51.607504Z"
    }
   },
   "outputs": [
    {
     "data": {
      "text/plain": [
       "(100, 10000, 10)"
      ]
     },
     "execution_count": 52,
     "metadata": {},
     "output_type": "execute_result"
    }
   ],
   "source": [
    "y_probas.shape"
   ]
  },
  {
   "cell_type": "code",
   "execution_count": 53,
   "id": "0e14d8cb",
   "metadata": {
    "ExecuteTime": {
     "end_time": "2021-07-09T15:19:17.472623Z",
     "start_time": "2021-07-09T15:19:17.466931Z"
    }
   },
   "outputs": [
    {
     "data": {
      "text/plain": [
       "array([[0.  , 0.  , 0.  , 0.  , 0.  , 0.06, 0.  , 0.18, 0.  , 0.76]],\n",
       "      dtype=float32)"
      ]
     },
     "execution_count": 53,
     "metadata": {},
     "output_type": "execute_result"
    }
   ],
   "source": [
    "np.round(y_proba[:1], 2)"
   ]
  },
  {
   "cell_type": "code",
   "execution_count": 54,
   "id": "d52a88fb",
   "metadata": {
    "ExecuteTime": {
     "end_time": "2021-07-09T15:20:07.803096Z",
     "start_time": "2021-07-09T15:20:07.797507Z"
    }
   },
   "outputs": [
    {
     "data": {
      "text/plain": [
       "array([[0.  , 0.  , 0.  , 0.  , 0.  , 0.09, 0.  , 0.17, 0.01, 0.21]],\n",
       "      dtype=float32)"
      ]
     },
     "execution_count": 54,
     "metadata": {},
     "output_type": "execute_result"
    }
   ],
   "source": [
    "np.round(y_std[:1], 2)"
   ]
  },
  {
   "cell_type": "code",
   "execution_count": 55,
   "id": "bb07860f",
   "metadata": {
    "ExecuteTime": {
     "end_time": "2021-07-09T15:22:34.337837Z",
     "start_time": "2021-07-09T15:22:34.334437Z"
    }
   },
   "outputs": [],
   "source": [
    "y_pred = np.argmax(y_proba, axis=1)"
   ]
  },
  {
   "cell_type": "code",
   "execution_count": 56,
   "id": "71e872e1",
   "metadata": {
    "ExecuteTime": {
     "end_time": "2021-07-09T15:22:49.665540Z",
     "start_time": "2021-07-09T15:22:49.659584Z"
    }
   },
   "outputs": [
    {
     "data": {
      "text/plain": [
       "0.8534"
      ]
     },
     "execution_count": 56,
     "metadata": {},
     "output_type": "execute_result"
    }
   ],
   "source": [
    "accuracy = np.sum(y_pred == y_test) / len(y_test)\n",
    "accuracy"
   ]
  },
  {
   "cell_type": "code",
   "execution_count": null,
   "id": "cfc616e6",
   "metadata": {},
   "outputs": [],
   "source": []
  }
 ],
 "metadata": {
  "kernelspec": {
   "display_name": "Python 3",
   "language": "python",
   "name": "python3"
  },
  "language_info": {
   "codemirror_mode": {
    "name": "ipython",
    "version": 3
   },
   "file_extension": ".py",
   "mimetype": "text/x-python",
   "name": "python",
   "nbconvert_exporter": "python",
   "pygments_lexer": "ipython3",
   "version": "3.9.5"
  },
  "latex_envs": {
   "LaTeX_envs_menu_present": true,
   "autoclose": false,
   "autocomplete": true,
   "bibliofile": "biblio.bib",
   "cite_by": "apalike",
   "current_citInitial": 1,
   "eqLabelWithNumbers": true,
   "eqNumInitial": 1,
   "hotkeys": {
    "equation": "Ctrl-E",
    "itemize": "Ctrl-I"
   },
   "labels_anchors": false,
   "latex_user_defs": false,
   "report_style_numbering": false,
   "user_envs_cfg": false
  },
  "toc": {
   "base_numbering": 1,
   "nav_menu": {},
   "number_sections": true,
   "sideBar": true,
   "skip_h1_title": false,
   "title_cell": "Table of Contents",
   "title_sidebar": "Contents",
   "toc_cell": false,
   "toc_position": {},
   "toc_section_display": true,
   "toc_window_display": false
  }
 },
 "nbformat": 4,
 "nbformat_minor": 5
}
